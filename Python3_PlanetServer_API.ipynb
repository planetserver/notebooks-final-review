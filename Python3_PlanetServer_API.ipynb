{
 "cells": [
  {
   "cell_type": "markdown",
   "metadata": {},
   "source": [
    "# CRISM summary products - PlanetServer Python 2.7 API  - Ported to Python 3.6\n",
    "\n",
    "Developed for Python 2.7 - Anik Halder, Ramiro Marco Figuera - modified to run on python 3.6 - Angelo Pio Rossi"
   ]
  },
  {
   "cell_type": "code",
   "execution_count": 1,
   "metadata": {},
   "outputs": [
    {
     "name": "stdout",
     "output_type": "stream",
     "text": [
      "3.6.5 |Anaconda, Inc.| (default, Apr 26 2018, 08:42:37) \n",
      "[GCC 4.2.1 Compatible Clang 4.0.1 (tags/RELEASE_401/final)]\n"
     ]
    }
   ],
   "source": [
    "# Checking the version of Python\n",
    "\n",
    "import sys\n",
    "print(sys.version)"
   ]
  },
  {
   "cell_type": "code",
   "execution_count": 2,
   "metadata": {},
   "outputs": [],
   "source": [
    "import numpy as np\n",
    "\n",
    "import re\n",
    "\n",
    "import math\n",
    "\n",
    "from astropy.io import fits\n",
    "\n",
    "# import urllib \n",
    "\n",
    "# from requests import urllib\n",
    "\n",
    "import requests\n",
    "\n",
    "import urllib.request\n",
    "\n",
    "import urllib.parse\n",
    "\n",
    "#import httplib\n",
    "\n",
    "import xml.etree.ElementTree as ET\n",
    "\n",
    "%matplotlib inline\n",
    "import matplotlib.pyplot as plt\n",
    "\n",
    "# reading the data from the bands_table.fits file\n",
    "\n",
    "hdulist = fits.open(\"bands_table.fits\")\n",
    "tabledata = hdulist[1].data # assuming the first extension is a table\n",
    "\n",
    "cols = hdulist[1].columns\n",
    "\n",
    "band_name = tabledata[\"band_name\"]\n",
    "WV = tabledata[\"wavelength\"]\n",
    "\n",
    "%matplotlib notebook\n",
    "#from ipywidgets import interact"
   ]
  },
  {
   "cell_type": "markdown",
   "metadata": {},
   "source": [
    "## Formulation of function to find bandname and wavelength"
   ]
  },
  {
   "cell_type": "code",
   "execution_count": 3,
   "metadata": {},
   "outputs": [
    {
     "name": "stdout",
     "output_type": "stream",
     "text": [
      "Corresponding wavelength and bandname of R2260 : WV = 2.25827 ; Band name 192\n"
     ]
    }
   ],
   "source": [
    "def find_WV_bandname(name, nearest=True):\n",
    "    # extract wavelength from formulation name e.g. R2950 --> 2950 nanometer --> 2.95 micrometer\n",
    "    # nearest=True means that the nearest wavelength in the bands_table will be returned (default value)\n",
    "    # nearest=False means that the exact wavelength as passed in 'name' shall be returned\n",
    "    \n",
    "    l = float(re.findall(\"\\d+\", name)[0])/1000 # converting into micrometer\n",
    "    \n",
    "    # nearest wavelength and the corresponding band name index of the given color\n",
    "    idx = (np.abs(WV-l)).argmin()\n",
    "    \n",
    "    # return the corresponding values\n",
    "    if (nearest==True):\n",
    "        return WV[idx], band_name[idx]\n",
    "    elif (nearest==False):\n",
    "        return l, band_name[idx]\n",
    "\n",
    "\n",
    "color = \"R2260\"\n",
    "\n",
    "results = find_WV_bandname(color)\n",
    "\n",
    "print(\"Corresponding wavelength and bandname of\", color ,\": WV =\", results[0],\"; Band name\", results[1])"
   ]
  },
  {
   "cell_type": "markdown",
   "metadata": {},
   "source": [
    "## Formulation of family $f1$ - $BDXXXX$\n",
    "\n",
    "### $$1-\\left(\\frac{R_c}{a* R_s+b* R_l}\\right)$$\n",
    "\n",
    "Associated Product # : 13, 19, 20, 21, 23, 27, 28, 29, 31, 33, 34, 36, 37, 39, 44, 46, 47, 48, 57\n",
    "##### 19 summary products"
   ]
  },
  {
   "cell_type": "code",
   "execution_count": 4,
   "metadata": {},
   "outputs": [],
   "source": [
    "# family f1 is of the formuation : 1-(Rc/(a*Rs+b*Rl)\n",
    "\n",
    "def f1(lst = []):\n",
    "    # lst has the arguments: Rc, Rs, Rl\n",
    "    WV_Rc , bn_Rc = find_WV_bandname(lst[0]) # Rc\n",
    "    WV_Rs , bn_Rs  = find_WV_bandname(lst[1]) # Rs\n",
    "    WV_Rl , bn_Rl  = find_WV_bandname(lst[2]) # Rl\n",
    "\n",
    "    #print(\"Band names : {0} = {1}, {2} = {3}, {4} = {5}\".format(lst[0], bn_Rc, lst[1], bn_Rs, lst[2], bn_Rl))    \n",
    "        \n",
    "    b = (WV_Rc - WV_Rs) / (WV_Rl - WV_Rs)\n",
    "    a = 1-b\n",
    "    \n",
    "    # WCPS query as given by the computed product\n",
    "    F = \"(1 - (data.band_\"+str(bn_Rc)+\" / ((\"+str(a)+\") * data.band_\"+str(bn_Rs)+\" + (\"+str(b)+\") * data.band_\"+str(bn_Rl)+\")))\"\n",
    "           \n",
    "    # stretched value of F\n",
    "    FS = \"(float)((int)( 255 / ( max(\"+F+\") - min(\"+F+\") )) * ( (\"+F+\") - min(\"+F+\") ))\"\n",
    "        \n",
    "    return [FS, F]\n",
    "\n",
    "#print f1([\"R1320\", \"R1080\", \"R1750\"])[1]"
   ]
  },
  {
   "cell_type": "markdown",
   "metadata": {},
   "source": [
    "\n",
    "### Formulation of family $f1$ - $BDXXXX$ : $$1-\\left(\\frac{R_c}{a* R_s+b* R_l}\\right)$$"
   ]
  },
  {
   "cell_type": "code",
   "execution_count": 5,
   "metadata": {},
   "outputs": [],
   "source": [
    "# family f1 is of the formuation : 1-(Rc/(a*Rs+b*Rl)\n",
    "\n",
    "def f1(lst = []):\n",
    "    # lst has the arguments: Rc, Rs, Rl\n",
    "    WV_Rc , bn_Rc = find_WV_bandname(lst[0]) # Rc\n",
    "    WV_Rs , bn_Rs  = find_WV_bandname(lst[1]) # Rs\n",
    "    WV_Rl , bn_Rl  = find_WV_bandname(lst[2]) # Rl\n",
    "\n",
    "    b = (WV_Rc - WV_Rs) / (WV_Rl - WV_Rs)\n",
    "    a = 1-b\n",
    "    \n",
    "    # WCPS query as given by the computed product\n",
    "    F = \"(1 - (data.band_\"+str(bn_Rc)+\" / ((\"+str(a)+\") * data.band_\"+str(bn_Rs)+ \\\n",
    "        \" + (\"+str(b)+\") * data.band_\"+str(bn_Rl)+\")))\"\n",
    "           \n",
    "    # stretched value of F\n",
    "    FS = \"(float)((int)( 255 / ( max(\"+F+\") - min(\"+F+\") )) * ( (\"+F+\") - min(\"+F+\") ))\"\n",
    "        \n",
    "    return [FS, F]"
   ]
  },
  {
   "cell_type": "markdown",
   "metadata": {},
   "source": [
    "## Formulation of family  $f2$ - $min$\n",
    "\n",
    "### $$min \\left[\\left(1-\\frac{R_{1c}}{a* R_{1s}+b* R_{1l}}\\right),\\left( 1-\\frac{R_{2c}}{a*R_{2s}+b*R_{2l}}\\right)\\right]$$"
   ]
  },
  {
   "cell_type": "code",
   "execution_count": 6,
   "metadata": {},
   "outputs": [],
   "source": [
    "# family f2 is of the formuation : MIN [ 1-(R1c/(a*R1s+b*R1l) , 1-(R2c/(a*R2s+b*R2l) ]\n",
    "\n",
    "def f2(lst = []):\n",
    "    # lst has the arguments: Rc1, Rs1, Rl1 , Rc2, Rs2, Rl2\n",
    "    \n",
    "    FS1 = f1(lst[0:3])[0]\n",
    "    FS2 = f1(lst[3:])[0]\n",
    "    \n",
    "    FS = \"( \"+FS1+\" < \"+FS2+\" ) * \"+FS1+\" + ( \"+FS1+\" > \"+FS2+\" ) * \"+FS2\n",
    "    \n",
    "    return [FS]\n",
    "  \n",
    "#print f2([\"R2165\", \"R2120\", \"R2350\", \"R2210\", \"R2120\", \"R2350\"])[0]"
   ]
  },
  {
   "cell_type": "markdown",
   "metadata": {},
   "source": [
    "## Formulation of family $f3$ \n",
    "\n",
    "### $$0.5* \\left(1-\\frac{R_{1c}}{a* R_{1s}+b*R_{1l}}\\right) + 0.5 *\\left(1-\\frac{R_{2c}}{a* R_{2s}+b* R_{2l}}\\right)$$\n",
    "\n",
    "Associated Product # : 24 - $BD1900_2$\n",
    "\n",
    "##### 1 summary product"
   ]
  },
  {
   "cell_type": "code",
   "execution_count": 7,
   "metadata": {},
   "outputs": [],
   "source": [
    "# family f3 is of the formuation : 0.5 * (1-(R1c/(a*R1s+b*R1l)) + 0.5*( 1-(R2c/(a*R2s+b*R2l))\n",
    "\n",
    "def f3(lst = []):\n",
    "    # lst has the arguments: R1c, R1s, R1l, R2c, R2s, R2l\n",
    "    \n",
    "    F1 = f1(lst[0:3])[1] # for components R1c, R1s, R1l\n",
    "    F2 = f1(lst[3:])[1] # for components R2c, R2s, R2l\n",
    "    \n",
    "    # WCPS query as given by the computed product\n",
    "    F = \"(0.5 * (\"+F1+\")\"+\" + 0.5 * (\"+F2+\"))\" \n",
    "    \n",
    "    # stretched value of F\n",
    "    FS = \"(float)((int)( 255 / ( max(\"+F+\") - min(\"+F+\") )) * ( (\"+F+\") - min(\"+F+\") ))\"\n",
    "    \n",
    "    return [FS, F]\n",
    "\n",
    "#print f3([\"R1930\", \"R1850\", \"R2067\", \"R1985\", \"R1850\", \"R2067\"])[1]"
   ]
  },
  {
   "cell_type": "markdown",
   "metadata": {},
   "source": [
    "## Formulation of family $f4$ - $RXXXX$\n",
    "\n",
    "### $$R_1$$\n",
    "\n",
    "Associated Product # : 12, 54, 55, 56, 60\n",
    "\n",
    "##### 5 summary products"
   ]
  },
  {
   "cell_type": "code",
   "execution_count": 8,
   "metadata": {},
   "outputs": [],
   "source": [
    "# family f4 is of the formuation : R1\n",
    "\n",
    "def f4(lst = []):\n",
    "    # lst has the arguments: R1\n",
    "    \n",
    "    WV_R1 , bn_R1 = find_WV_bandname(lst[0]) # R1\n",
    "    \n",
    "    # WCPS query as given by the computed product\n",
    "    F = \"(data.band_\"+str(bn_R1)+\")\"\n",
    "    \n",
    "    # stretched value of F\n",
    "    FS = \"(float)((int)( 255 / ( max(\"+F+\") - min(\"+F+\") )) * ( (\"+F+\") - min(\"+F+\") ))\"\n",
    "        \n",
    "    return [FS, F]\n",
    "\n",
    "#print f4([\"R1330\"])[1]"
   ]
  },
  {
   "cell_type": "markdown",
   "metadata": {},
   "source": [
    "## Formulation of family $f5$\n",
    "\n",
    "### $$\\frac{R_1}{R_2}$$\n",
    "\n",
    "Associated Product # : 58 - $IRR2$ ; 59 - $IRR3$\n",
    "\n",
    "##### 2 summary products"
   ]
  },
  {
   "cell_type": "code",
   "execution_count": 9,
   "metadata": {},
   "outputs": [],
   "source": [
    "# family f5 is of the formuation : R1/R2\n",
    "\n",
    "def f5(lst = []):\n",
    "    # lst has the arguments: R1, R2\n",
    "    \n",
    "    WV_R1 , bn_R1 = find_WV_bandname(lst[0]) # R1\n",
    "    WV_R2 , bn_R2 = find_WV_bandname(lst[1]) # R2\n",
    "    \n",
    "    # WCPS query as given by the computed product\n",
    "    F = \"(data.band_\"+str(bn_R1)+\" / data.band_\"+str(bn_R2)+\")\"\n",
    "    \n",
    "    # stretched value of F\n",
    "    FS = \"(float)((int)( 255 / ( max(\"+F+\") - min(\"+F+\") )) * ( (\"+F+\") - min(\"+F+\") ))\"\n",
    "    \n",
    "    return [FS, F]\n",
    "\n",
    "#print f5([\"R2530\", \"R2210\"])[1]"
   ]
  },
  {
   "cell_type": "markdown",
   "metadata": {},
   "source": [
    "## Formulation of family $f6$\n",
    "\n",
    "### $$1-\\left(\\frac{R_1}{R_2 * \\frac{R_3}{R_4}}\\right)$$\n",
    "\n",
    "Associated Product # : 45 - $BD3000$\n",
    "\n",
    "##### 1 summary product"
   ]
  },
  {
   "cell_type": "code",
   "execution_count": 10,
   "metadata": {},
   "outputs": [],
   "source": [
    "# family f6 is of the formuation : 1-(R1/(R2*(R3/R4)))\n",
    "\n",
    "def f6(lst = []):\n",
    "    # lst has the arguments: R1, R2, R3, R4\n",
    "    \n",
    "    WV_R1 , bn_R1 = find_WV_bandname(lst[0]) # R1\n",
    "    WV_R2 , bn_R2  = find_WV_bandname(lst[1]) # R2\n",
    "    WV_R3 , bn_R3  = find_WV_bandname(lst[2]) # R3\n",
    "    WV_R4 , bn_R4  = find_WV_bandname(lst[3]) # R4\n",
    "\n",
    "    # WCPS query as given by the computed product\n",
    "    F = \"(1 - (data.band_\"+str(bn_R1)+\" / (data.band_\"+str(bn_R2)+\" * (data.band_\"+str(bn_R3)+\" / data.band_\"+str(bn_R4)+\"))))\"\n",
    "    \n",
    "    # stretched value of F\n",
    "    FS = \"(float)((int)( 255 / ( max(\"+F+\") - min(\"+F+\") )) * ( (\"+F+\") - min(\"+F+\") ))\"\n",
    "    \n",
    "    return [FS, F]\n",
    "\n",
    "#print f6([\"R3000\", \"R2530\", \"R2530\", \"R2210\"])[1]"
   ]
  },
  {
   "cell_type": "markdown",
   "metadata": {},
   "source": [
    "## Formulation of family $f7$\n",
    "\n",
    "### $$1-\\left(\\frac{a*R_s+b*R_l}{R_c}\\right)$$\n",
    "\n",
    "Associated Product # : 40 - $SINDEX2$ ; 49 - $CINDEX2$\n",
    "\n",
    "##### 2 summary products"
   ]
  },
  {
   "cell_type": "code",
   "execution_count": 11,
   "metadata": {},
   "outputs": [],
   "source": [
    "# family f7 is of the formuation : 1-((a*Rs+b*Rl)/Rc)\n",
    "\n",
    "def f7(lst = []):\n",
    "    # lst has the arguments: Rs, Rl, Rc\n",
    "\n",
    "    WV_Rs , bn_Rs  = find_WV_bandname(lst[0]) # Rs\n",
    "    WV_Rl , bn_Rl  = find_WV_bandname(lst[1]) # Rl\n",
    "    WV_Rc , bn_Rc = find_WV_bandname(lst[2]) # Rc\n",
    "\n",
    "    #print(\"Band names : {0} = {1}, {2} = {3}, {4} = {5}\".format(lst[2], bn_Rc, lst[0], bn_Rs, lst[1], bn_Rl))    \n",
    "        \n",
    "    b = (WV_Rc - WV_Rs) / (WV_Rl - WV_Rs)\n",
    "    a = 1-b\n",
    "    \n",
    "    # WCPS query as given by the computed product\n",
    "    F = \"(1 - ( ((\"+str(a)+\") * data.band_\"+str(bn_Rs)+\" + (\"+str(b)+\") * data.band_\"+str(bn_Rl)+\") / data.band_\"+str(bn_Rc)+\"))\"\n",
    "        \n",
    "    # stretched value of F\n",
    "    FS = \"(float)((int)( 255 / ( max(\"+F+\") - min(\"+F+\") )) * ( (\"+F+\") - min(\"+F+\") ))\"\n",
    "    \n",
    "    return [FS, F]\n",
    "\n",
    "#print f7([\"R2120\", \"R2400\", \"R2290\"])[1]"
   ]
  },
  {
   "cell_type": "markdown",
   "metadata": {},
   "source": [
    "## Formulation of family $f8$ \n",
    "\n",
    "### $$1-\\left(\\frac{1-BD_1}{1-BD_2}\\right)$$\n",
    "\n",
    "Associated Product # : 22 - $ICER1_2$\n",
    "\n",
    "##### 1 summary product"
   ]
  },
  {
   "cell_type": "code",
   "execution_count": 12,
   "metadata": {},
   "outputs": [],
   "source": [
    "# family f8 is of the formuation : 1-((1-BD1)/(1-BD2)) i.e. composed of f1\n",
    "\n",
    "def f8(lst = []):\n",
    "    # lst has the arguments: dictionary, BD1, BD2\n",
    "    \n",
    "    dictionary = lst[0] \n",
    "    F1 = dictionary[lst[1]][0](dictionary[lst[1]][1])[1]\n",
    "    F2 = dictionary[lst[2]][0](dictionary[lst[2]][1])[1]\n",
    "    \n",
    "    # WCPS query as given by the computed product\n",
    "    F = \"(1 - ((1 - \"+F1+\") / (1 - \"+F2+\")))\"\n",
    "    \n",
    "    # stretched value of F\n",
    "    FS = \"(float)((int)( 255 / ( max(\"+F+\") - min(\"+F+\") )) * ( (\"+F+\") - min(\"+F+\") ))\"\n",
    "    \n",
    "    return [FS, F]\n",
    "\n",
    "# as dictionary hasn't been defined so far - e.g. for f8 can be seen after the definition of the dictionary"
   ]
  },
  {
   "cell_type": "markdown",
   "metadata": {},
   "source": [
    "## Formulation of family $f9$ \n",
    "\n",
    "### $$\\left( \\frac{R_1-R_2}{W_2-W_1} \\right)$$\n",
    "\n",
    "#### Note: This family computes slope and intercept\n",
    "\n",
    "Associated Product # : 18 - $ISLOPE1$\n",
    "\n",
    "##### 1 summary product"
   ]
  },
  {
   "cell_type": "code",
   "execution_count": 13,
   "metadata": {},
   "outputs": [],
   "source": [
    "# family f9 is of the formuation : ((R1-R2)/(W2-W1))\n",
    "\n",
    "def f9(lst = []):\n",
    "    # lst has the arguments: R1, R2\n",
    "    \n",
    "    WV_W1, bn_R1 = find_WV_bandname(lst[0], nearest=False) # W1 and R1\n",
    "    WV_W2, bn_R2 = find_WV_bandname(lst[1], nearest=False) # W2 and R2\n",
    "    \n",
    "    # WCPS query as given by the computed product\n",
    "    F = \"((data.band_\"+str(bn_R1)+\" - data.band_\"+str(bn_R2)+\") / (\"+str(WV_W2)+\" - \"+str(WV_W1)+\"))\"\n",
    "    \n",
    "    # calculating the slope and intercept for f12 which changes a bit: R2-R1/W2-W1\n",
    "    slope = \"((data.band_\"+str(bn_R2)+\" - data.band_\"+str(bn_R1)+\") / (\"+str(WV_W2)+\" - \"+str(WV_W1)+\"))\"\n",
    "    \n",
    "    intercept = \"(data.band_\"+str(bn_R2)+\" - \"+slope+\" * \"+str(WV_W2)+\")\"    \n",
    "    \n",
    "    # stretched value of F\n",
    "    FS = \"(float)((int)( 255 / ( max(\"+F+\") - min(\"+F+\") )) * ( (\"+F+\") - min(\"+F+\") ))\" \n",
    "    \n",
    "    return [FS, slope, intercept]    \n",
    "\n",
    "#print f9([\"R1815\", \"R2530\"])[1]"
   ]
  },
  {
   "cell_type": "markdown",
   "metadata": {},
   "source": [
    "## Formulation of function to find RC"
   ]
  },
  {
   "cell_type": "code",
   "execution_count": 14,
   "metadata": {},
   "outputs": [],
   "source": [
    "def RC(lst = []):\n",
    "    # lst has the arguments: RC, [R1, R2] with R1 and R2 the anchors\n",
    "    \n",
    "    WV_RC = find_WV_bandname(lst[0], nearest=False)[0]\n",
    "    \n",
    "    slope, intercept = f9(lst[1])[1:]\n",
    "    \n",
    "    F = \"(\"+slope+\" * \"+str(WV_RC)+\" + \"+intercept+\")\"\n",
    "\n",
    "    return F\n",
    "\n",
    "#print RC([\"RB2600\",[\"R2456\", \"R2530\"]])"
   ]
  },
  {
   "cell_type": "markdown",
   "metadata": {},
   "source": [
    "## Formulation of family $f10$ \n",
    "\n",
    "### $$RBXXXX =\\frac{RCXXXX - RXXXX }{RCXXXX}$$\n",
    "\n",
    "Note: This family is the function that computes RB \n",
    "\n",
    "Associated Product # : 41 - $ICER2_2$\n",
    "\n",
    "##### 1 summary product"
   ]
  },
  {
   "cell_type": "code",
   "execution_count": 15,
   "metadata": {},
   "outputs": [],
   "source": [
    "# family f10 is of the formuation : RB1 = (RC1 - R1) / R1\n",
    "\n",
    "def f10(lst = []):\n",
    "    # lst has the arguments: RB, [R1, R2] where R1, R2 are the anchors\n",
    "    \n",
    "    # note that for finding bandname of a product, the initials do not matter i.e. whether it is RBXXXX,\n",
    "    # RCXXXX or RXXXX - all have the same bandnames and here the parameter RB does not imply the function\n",
    "    # but rather the bandname associated with it\n",
    "        \n",
    "    F_RC = RC(lst)\n",
    "    F_R = f4(lst)[1] # Using formulation of family f4 : R1\n",
    "    \n",
    "    # WCPS query as given by the computed product\n",
    "    F = \"((\"+F_RC+\" - \"+F_R+\")/ \"+F_RC+\")\"\n",
    "    \n",
    "    # stretched value of F\n",
    "    FS = \"(float)((int)( 255 / ( max(\"+F+\") - min(\"+F+\") )) * ( (\"+F+\") - min(\"+F+\") ))\"\n",
    "    \n",
    "    return [FS, F]\n",
    "\n",
    "#print f10([\"RB1210\",[\"R1750\",\"R2400\"]])[1]"
   ]
  },
  {
   "cell_type": "markdown",
   "metadata": {},
   "source": [
    "### $f10_{prima}$ is a different formulation of  $f10$ to include the absolute parameter in the product OLINDEX3"
   ]
  },
  {
   "cell_type": "code",
   "execution_count": 16,
   "metadata": {},
   "outputs": [],
   "source": [
    "# family f10_prima is a special formulation of f10 to include the absolute parameter to compute OLINDEX3\n",
    "\n",
    "# rest is the same as f10 : RB1 = (RC1 - R1) / R1\n",
    "\n",
    "def f10_prima(lst = []):\n",
    "    # lst has the arguments: RB, [R1, R2] where R1, R2 are the anchors\n",
    "    \n",
    "    # note that for finding bandname of a product, the initials do not matter i.e. whether it is RBXXXX,\n",
    "    # RCXXXX or RXXXX - all have the same bandnames and here the parameter RB does not imply the function\n",
    "    # but rather the bandname associated with it\n",
    "        \n",
    "    F_RC = RC(lst)\n",
    "    F_R = f4(lst)[1] # Using formulation of family f4 : R1\n",
    "    \n",
    "    # WCPS query as given by the computed product !!!\n",
    "    #F = \"(((\"+F_RC+\" - \"+F_R+\")/ (abs\"+F_RC+\"))\"\n",
    "    F = \"((\"+F_RC+\" - \"+F_R+\")/ (abs\"+F_RC+\"))\"\n",
    "    \n",
    "    # stretched value of F\n",
    "    FS = \"(float)((int)( 255 / ( max(\"+F+\") - min(\"+F+\") )) * ( (\"+F+\") - min(\"+F+\") ))\"\n",
    "    \n",
    "    return [FS, F]\n",
    "\n",
    "#print f10([\"RB1210\",[\"R1750\",\"R2400\"]])[1]"
   ]
  },
  {
   "cell_type": "markdown",
   "metadata": {},
   "source": [
    "## Formulation of family $f11$\n",
    "\n",
    "### $$1-\\left( \\frac{\\frac{R_a}{RC_a} +  \\frac{R_b}{RC_b} +\\frac{R_c}{RC_c}  + ...}{\\frac{R_x}{RC_x} +  \\frac{R_y}{RC_y} +\\frac{R_z}{RC_z}  + ...}\\right)$$\n",
    "\n",
    "Associated Product # : 25 - $BD1900r2$ ; 32 - $D2200$ ; 38 - $D2300$\n",
    "\n",
    "##### 3 summary products"
   ]
  },
  {
   "cell_type": "code",
   "execution_count": 17,
   "metadata": {},
   "outputs": [],
   "source": [
    "# family f11 is of the formuation : 1- (Ra/a + Rb/RCb + Rc/RCc  + ... )/(Ra/a + Rb/RCb + Rc/RCc  + ... )\n",
    "\n",
    "def f11(lst = []):\n",
    "    # lst has the arguments: [Ra, Rb, Rc, ...], [Rx, Ry, Rz, ...], [R1, R2] where R1, R2 are the anchors for RC\n",
    "    # and a,b,c... indicate the parameter under consideration in numerator\n",
    "    # and x,y,z... indicate the parameter under consideration in denominator\n",
    "    \n",
    "    # computing the WCPS query as given by the computed product\n",
    "    \n",
    "    # numerator\n",
    "    F_n = \"\"\n",
    "    for i in range(len(lst[0])):\n",
    "        F_R = f4([lst[0][i]])[1]\n",
    "        F_RC = RC([lst[0][i],lst[-1]])\n",
    "        \n",
    "        if i == 0:\n",
    "            F_n = F_n+F_R+\" / \"+F_RC\n",
    "        else:\n",
    "            F_n = F_n+\" + \"+F_R+\" / \"+F_RC\n",
    "            \n",
    "    # denominator\n",
    "    F_d = \"\"\n",
    "    for i in range(len(lst[0])):\n",
    "        F_R = f4([lst[1][i]])[1]\n",
    "        F_RC = RC([lst[1][i],lst[-1]])\n",
    "        \n",
    "        if i == 0:\n",
    "            F_d = F_d+F_R+\" / \"+F_RC\n",
    "        else:\n",
    "            F_d = F_d+\" + \"+F_R+\" / \"+F_RC\n",
    "            \n",
    "    F = \"(1-(\"+F_n+\" / \"+F_d+\"))\"\n",
    "    \n",
    "    # stretched value of F\n",
    "    FS = \"(float)((int)( 255 / ( max(\"+F+\") - min(\"+F+\") )) * ( (\"+F+\") - min(\"+F+\") ))\"\n",
    "    \n",
    "    return [FS, F]\n",
    "    \n",
    "#print f11([[\"R2210\",\"RC2230\"],[\"R2165\",\"R2165\"],[\"R1815\",\"R2430\"]])[1]"
   ]
  },
  {
   "cell_type": "markdown",
   "metadata": {},
   "source": [
    "## Formulation of family $f12$ !!! Works only for first two parameters!!!\n",
    "\n",
    "### $$RB_a*a + RB_b*b + RB_c*c  + ... $$\n",
    "\n",
    "Associated Product # : 15 - $ LCPINDEX2$ ; 16 - $HCPINDEX2$\n",
    "\n",
    "##### 3 summary products"
   ]
  },
  {
   "cell_type": "code",
   "execution_count": 18,
   "metadata": {},
   "outputs": [],
   "source": [
    "# family f12 is of the formuation : RBa*a + RBb*b + RBc*c  + ... \n",
    "\n",
    "def f12(lst = []):\n",
    "    # lst has the arguments: [RBa, a], [RBb,b], [RBc,c]..., [R1, R2] where R1, R2 are the anchors for RC\n",
    "    # and a,b,c.. indicate the parameter under consideration\n",
    "    \n",
    "    # computing the WCPS query as given by the computed product\n",
    "    F = \"\"\n",
    "    for i in range(len(lst)-1):\n",
    "        F_RB = f10([lst[i][0],lst[-1]])[1]\n",
    "        if i == 0:\n",
    "            F = F+F_RB+\" * \"+str(lst[i][1])\n",
    "        else:\n",
    "            F = F+\" + \"+F_RB+\" * \"+str(lst[i][1])\n",
    "            \n",
    "    F = \"(\"+F+\")\"\n",
    "    #print F\n",
    "        \n",
    "    # stretched value of F\n",
    "    FS = \"(float)((int)( 255 / ( max(\"+F+\") - min(\"+F+\") )) * ( (\"+F+\") - min(\"+F+\") ))\"\n",
    "    \n",
    "    return [FS, F]\n",
    "    \n",
    "#print f12([[\"RB2120\",0.10], [\"RB2140\",0.10], [\"RB2230\",0.15], [\"R1690\",\"R2530\"]])[1]"
   ]
  },
  {
   "cell_type": "markdown",
   "metadata": {},
   "source": [
    "## Formulation of family $f13$ !!!Special one for OLINDEX3!!!\n",
    "\n",
    "### $$RB_a*a + RB_b*b + RB_c*c  + ... $$\n",
    "\n",
    "Associated Product # : 14 - $OLINDEX3$ \n",
    "\n",
    "##### 1 summary products"
   ]
  },
  {
   "cell_type": "code",
   "execution_count": 19,
   "metadata": {},
   "outputs": [],
   "source": [
    "# family f13 is of the formuation : RBa*a + RBb*b + RBc*c  + ... \n",
    "\n",
    "def f13(lst = []):\n",
    "    # lst has the arguments: [RBa, a], [RBb,b], [RBc,c]..., [R1, R2] where R1, R2 are the anchors for RC\n",
    "    # and a,b,c.. indicate the parameter under consideration\n",
    "    \n",
    "    # computing the WCPS query as given by the computed product (using f10_prima)\n",
    "    F = \"\"\n",
    "    for i in range(len(lst)-1):\n",
    "        F_RB = f10_prima([lst[i][0],lst[-1]])[1]\n",
    "        if i == 0: # !!!\n",
    "            #F = F+F_RB+\" * \"+str(lst[i][1]) +\" )\"\n",
    "            F = F+F_RB+\" * \"+str(lst[i][1])\n",
    "        else:\n",
    "            #F = F+\" + \"+F_RB+\" * \"+str(lst[i][1])+\" )\"\n",
    "            F = F+\" + \"+F_RB+\" * \"+str(lst[i][1])\n",
    "            \n",
    "    #F = F\n",
    "    F = \"(\"+F+\")\"\n",
    "        \n",
    "    # stretched value of F\n",
    "    FS = \"(float)((int)( 255 / ( max(\"+F+\") - min(\"+F+\") )) * ( (\"+F+\") - min(\"+F+\") ))\"\n",
    "    \n",
    "    return [FS, F]\n",
    "    \n",
    "#print f12([[\"RB2120\",0.10], [\"RB2140\",0.10], [\"RB2230\",0.15], [\"R1690\",\"R2530\"]])[1]"
   ]
  },
  {
   "cell_type": "markdown",
   "metadata": {},
   "source": [
    "## Extracting bounding box information of coverage_id image from XML"
   ]
  },
  {
   "cell_type": "code",
   "execution_count": 20,
   "metadata": {
    "scrolled": true
   },
   "outputs": [
    {
     "name": "stdout",
     "output_type": "stream",
     "text": [
      "{'minLat': -4511634.32728893, 'minLong': 15568380.755101334, 'maxLat': -4501794.727500061, 'maxLong': 15620246.115434228}\n"
     ]
    }
   ],
   "source": [
    "def coordinates(coverage_id):\n",
    "\n",
    "    coverageID = coverage_id.upper() # convert coverage_id to uppercase for XML file info on coverage\n",
    "    xml_url = urllib.request.urlopen(\"http://access.planetserver.eu:8080/ps2/dataset?request=getCoverage&coverageID=\"+coverageID)\n",
    "    xml_url_string = xml_url.read()\n",
    "\n",
    "    #print xml_url_string\n",
    "    \n",
    "    tree = ET.fromstring(xml_url_string) # converting xml string into elements for parsing\n",
    "\n",
    "    # storing the coverage_id's bounding coordinates i.e. maximum and minimum Latitudes and Longitudes \n",
    "    coords_degrees = {} \n",
    "    coords_metres = {} \n",
    "    centroid = {}\n",
    "    \n",
    "    r = 3396190.0\n",
    "    \n",
    "    for i in range(4):\n",
    "        coords_degrees[tree[1][0][2][i].tag] = float(tree[1][0][2][i].text)\n",
    "        if 'Lat' in tree[1][0][2][i].tag:\n",
    "            coords_metres[tree[1][0][2][i].tag] = float(tree[1][0][2][i].text)*r*np.pi/180\n",
    "        else:\n",
    "            coords_metres[tree[1][0][2][i].tag] = float(tree[1][0][2][i].text)*r*np.pi/180\n",
    "    #for j in range(1):\n",
    "    #    centroid[tree[1][0][3][j].tag] = float([tree[1][0][3][j].text])\n",
    "    centroid_long = float(tree[1][0][3][1].text)\n",
    "            \n",
    "\n",
    "    return coords_degrees, coords_metres, centroid_long\n",
    "        \n",
    "#coordinates(\"FRT00005A94_07_IF163L_TRR3\")[2]\n",
    "print(coordinates(\"FRT00005A94_07_IF163L_TRR3\")[1])"
   ]
  },
  {
   "cell_type": "code",
   "execution_count": null,
   "metadata": {},
   "outputs": [],
   "source": []
  },
  {
   "cell_type": "code",
   "execution_count": 21,
   "metadata": {},
   "outputs": [],
   "source": [
    "summary_products = { \"BD1300\" : [f1, [\"R1320\", \"R1080\", \"R1750\"]], \"BD1400\" : [f1, [\"R1395\", \"R1330\", \"R1467\"]], \n",
    "                    \"BD1435\" : [f1, [\"R1435\", \"R1370\", \"R1470\"]], \"BD1500_2\" : [f1, [\"R1525\", \"R1367\", \"R1808\"]], \n",
    "                    \"BD1750_2\" : [f1, [\"R1750\", \"R1690\", \"R1815\"]], \"BD2100_2\" : [f1, [\"R2132\", \"R1930\", \"R2250\"]], \n",
    "                    \"BD2165\" : [f1, [\"R2165\", \"R21!!!20\", \"R2230\"]], \"BD2190\" : [f1, [\"R2185\", \"R2120\", \"R2250\"]],\n",
    "                    \"BD2210_2\" : [f1, [\"R2210\", \"R2165\", \"R2250\"]], \"BD2230\" : [f1, [\"R2235\", \"R2210\", \"R2252\"]],\n",
    "                    \"BD2250\" : [f1, [\"R2245\", \"R2120\", \"R2340\"]], \"BD2265\" : [f1, [\"R2265\", \"R2210\", \"R2340\"]],\n",
    "                    \"BD2290\" : [f1, [\"R2290\", \"R2250\", \"R2350\"]], \"BD2355\" : [f1, [\"R2355\", \"R2300\", \"R2450\"]],\n",
    "                    \"BD2500_2\" : [f1, [\"R2480\", \"R2364\", \"R2570\"]], \"BD3100\" : [f1, [\"R3120\", \"R3000\", \"R3250\"]],\n",
    "                    \"BD3200\" : [f1, [\"R3320\", \"R3250\", \"R3390\"]], \"BD3400_2\" : [f1, [\"R3420\", \"R3250\", \"R3630\"]],\n",
    "                    \"BD2600\" : [f1, [\"R2600\", \"R2530\", \"R2630\"]], \n",
    "                    \"MIN2200\" : [f2, [\"R2165\", \"R2120\", \"R2350\", \"R2210\", \"R2120\", \"R2350\"]], \n",
    "                    \"MIN2250\" : [f2, [\"R2210\", \"R2165\", \"R2350\", \"R2265\", \"R2165\", \"R2350\"]], \n",
    "                    \"MIN2295_2480\" : [f2, [\"R2295\", \"R2165\", \"R2364\", \"R2480\", \"R2364\", \"R2570\"]], \n",
    "                    \"MIN2345_2537\" : [f2, [\"R2345\", \"R2250\", \"R2430\", \"R2537\", \"R2430\", \"R2602\"]], \n",
    "                    \"BD1900_2\" : [f3, [\"R1930\", \"R1850\", \"R2067\", \"R1985\", \"R1850\", \"R2067\"]], \n",
    "                    \"R1330\" : [f4,[\"R1330\"]], \"R1080\" : [f4,[\"R1080\"]],  \"R1506\" : [f4,[\"R1506\"]],\n",
    "                    \"R2529\" : [f4,[\"R2529\"]], \"R3920\" : [f4,[\"R3920\"]],\n",
    "                    \"IRR2\" : [f5,[\"R2530\", \"R2210\"]], \"IRR3\" : [f5,[\"R3500\", \"R3390\"]],\n",
    "                    \"BD3000\" : [f6,[\"R3000\", \"R2530\", \"R2530\", \"R2210\"]], \n",
    "                    \"SINDEX2\" : [f7, [\"R2120\", \"R2400\", \"R2290\"]], \"CINDEX2\" : [f7, [\"R3450\", \"R3875\", \"R3610\"]], \n",
    "                    \"ISLOPE1\" : [f9,[\"R1815\", \"R2530\"]], \n",
    "                    \"ICER2_2\" : [f10,[\"RB2600\",[\"R2456\", \"R2530\"]]],\n",
    "                    \"D2200\" : [f11,[[\"R2210\",\"R2230\"],[\"R2165\",\"R2165\"],[\"R1815\",\"R2430\"]]], \n",
    "                    \"D2300\" : [f11,[[\"R2290\",\"R2320\",\"R2330\"],[\"R2120\",\"R2170\",\"R2210\"],[\"R1815\",\"R2530\"]]],\n",
    "                    \"BD1900r2\" : [f11,[[\"R1908\",\"R1914\",\"R1921\",\"R1928\",\"R1934\",\"R1941\"],[\"R1862\",\"R1869\",\"R1875\",\"R2112\",\"R2120\",\"R2126\"],[\"R1850\",\"R2060\"]]],\n",
    "                    \"LCPINDEX2\" : [f12,[[\"RB1690\",0.20], [\"RB1750\",0.20], [\"RB1810\",0.30], [\"RB1870\",0.30], [\"R1560\",\"R2450\"]]],\n",
    "                    \"HCPINDEX2\" : [f12,[[\"RB2120\",0.10], [\"RB2140\",0.10], [\"RB2230\",0.15], [\"RB2250\",0.30], [\"RB2430\",0.20], [\"RB2460\",0.15], [\"R1690\",\"R2530\"]]],\n",
    "                    \"OLINDEX3\" : [f13,[[\"RB1210\",0.1], [\"RB1250\",0.1], [\"RB1263\",0.2], [\"RB1276\",0.2], [\"RB1330\",0.4], [\"R1750\",\"R1860\"]]],\n",
    "                    \"HCPINDEX3\" : [f12,[[\"RB2120\",0.10], [\"RB2140\",0.10], [\"R1690\",\"R2530\"]]]} \n",
    "                    \n",
    "summary_products[\"ICER1_2\"] = [f8, [summary_products, \"BD1435\", \"BD1500_2\"]]"
   ]
  },
  {
   "cell_type": "code",
   "execution_count": 22,
   "metadata": {},
   "outputs": [],
   "source": [
    "def get_data(url):\n",
    "   response = urllib.request.urlopen(url)\n",
    "   data = np.genfromtxt(response,delimiter = ' ', dtype = float)\n",
    "   return data\n",
    "\n",
    "def plot_spectra(N, E, coverage_id):\n",
    "    \n",
    "    query = \"http://access.planetserver.eu:8080/rasdaman/ows?query=for%20c%20in%20(\" + coverage_id + \")%20return%20encode(c[%20N(\" + str(N) + \":\" + str(N) + \"),%20E(\" + str(E) + \":\" + str(E) + \")%20],%20%22csv%22)\"\n",
    "    data = get_data(query)\n",
    "    for x in range (0,len(data)):\n",
    "        if data[x] == 65535 or math.isnan(data[x]):\n",
    "            data[x] = 0\n",
    "#        avg_denom[x] = avg_denom[x] + data[x]\n",
    "\n",
    "    ymax = max(data[3:244])\n",
    "    ymin = min(data[3:244])\n",
    "    delta = 0.01\n",
    "    x_axis = [1.00135, 1.0079, 1.0144500000000001, 1.0209999999999999, 1.02755, 1.0341, 1.0406500000000001, 1.0471999999999999, 1.05375, 1.0603, 1.0668500000000001, 1.07341, 1.07996, 1.0865100000000001, 1.09307, 1.09962, 1.1061700000000001, 1.11273, 1.1192800000000001, 1.12584, 1.13239, 1.1389499999999999, 1.14551, 1.1520600000000001, 1.15862, 1.1651800000000001, 1.1717299999999999, 1.1782900000000001, 1.18485, 1.1914100000000001, 1.19797, 1.2045300000000001, 1.21109, 1.2176499999999999, 1.22421, 1.2307699999999999, 1.23733, 1.2438899999999999, 1.2504500000000001, 1.25701, 1.2635700000000001, 1.27014, 1.2766999999999999, 1.2832600000000001, 1.28983, 1.2963899999999999, 1.3029500000000001, 1.30952, 1.3160799999999999, 1.3226500000000001, 1.32921, 1.33578, 1.3423400000000001, 1.3489100000000001, 1.35548, 1.36205, 1.3686100000000001, 1.3751800000000001, 1.38175, 1.38832, 1.39489, 1.4014500000000001, 1.40802, 1.41459, 1.42116, 1.4277299999999999, 1.43431, 1.4408799999999999, 1.4474499999999999, 1.4540200000000001, 1.4605900000000001, 1.46716, 1.47374, 1.48031, 1.48688, 1.49346, 1.50003, 1.50661, 1.51318, 1.51976, 1.52633, 1.53291, 1.53948, 1.54606, 1.55264, 1.55921, 1.56579, 1.57237, 1.5789500000000001, 1.58552, 1.5921000000000001, 1.5986800000000001, 1.6052599999999999, 1.6118399999999999, 1.61842, 1.625, 1.63158, 1.6381600000000001, 1.6447400000000001, 1.65133, 1.65791, 1.66449, 1.6710700000000001, 1.6776599999999999, 1.68424, 1.69082, 1.6974100000000001, 1.7039899999999999, 1.71058, 1.71716, 1.7237499999999999, 1.7303299999999999, 1.73692, 1.7435099999999999, 1.7500899999999999, 1.75668, 1.7632699999999999, 1.7698499999999999, 1.77644, 1.7830299999999999, 1.78962, 1.7962100000000001, 1.8028, 1.8093900000000001, 1.8159799999999999, 1.82257, 1.8291599999999999, 1.83575, 1.8423400000000001, 1.84893, 1.8555200000000001, 1.86212, 1.8687100000000001, 1.8753, 1.8818999999999999, 1.88849, 1.8950800000000001, 1.90168, 1.9082699999999999, 1.9148700000000001, 1.9214599999999999, 1.9280600000000001, 1.93465, 1.9412499999999999, 1.9478500000000001, 1.95444, 1.9610399999999999, 1.9676400000000001, 1.97424, 1.9808399999999999, 1.98743, 1.99403, 2.0006300000000001, 2.0072299999999998, 2.01383, 2.0204300000000002, 2.0270299999999999, 2.03363, 2.0402399999999998, 2.04684, 2.0534400000000002, 2.0600399999999999, 2.06664, 2.0732499999999998, 2.07985, 2.0864500000000001, 2.0930599999999999, 2.0996600000000001, 2.1062699999999999, 2.11287, 2.1194799999999998, 2.12608, 2.1326900000000002, 2.1393, 2.1459000000000001, 2.1525099999999999, 2.1591200000000002, 2.1657199999999999, 2.1723300000000001, 2.1789399999999999, 2.1855500000000001, 2.1921599999999999, 2.1987700000000001, 2.2053799999999999, 2.2119900000000001, 2.2185999999999999, 2.2252100000000001, 2.2318199999999999, 2.2384300000000001, 2.2450399999999999, 2.2516500000000002, 2.25827, 2.2648799999999998, 2.27149, 2.2780999999999998, 2.2847200000000001, 2.2913299999999999, 2.2979500000000002, 2.3045599999999999, 2.3111799999999998, 2.31779, 2.3244099999999999, 2.3310200000000001, 2.3376399999999999, 2.3442599999999998, 2.35087, 2.3574899999999999, 2.3641100000000002, 2.3707199999999999, 2.3773399999999998, 2.3839600000000001, 2.3905799999999999, 2.3972000000000002, 2.4038200000000001, 2.4104399999999999, 2.4170600000000002, 2.4236800000000001, 2.4302999999999999, 2.4369200000000002, 2.44354, 2.45017, 2.4567899999999998, 2.4634100000000001, 2.4700299999999999, 2.4766599999999999, 2.4832800000000002, 2.4899, 2.4965299999999999, 2.50312, 2.5097200000000002, 2.5163199999999999, 2.5229200000000001, 2.5295100000000001, 2.5361099999999999, 2.54271, 2.5493100000000002, 2.5559099999999999, 2.5625100000000001, 2.5691099999999998, 2.5757099999999999, 2.5823100000000001, 2.5889099999999998, 2.59551, 2.6021200000000002, 2.6087199999999999, 2.6153200000000001, 2.6219199999999998, 2.62853, 2.6351300000000002, 2.64174, 2.6483400000000001, 2.6549499999999999, 2.6615500000000001, 2.6681599999999999, 2.67476, 2.6813699999999998, 2.68798, 2.6945800000000002, 2.70119, 2.7606799999999998, 2.76729, 2.7738999999999998, 2.7805200000000001, 2.7871299999999999, 2.7937400000000001, 2.8003499999999999, 2.8069700000000002, 2.81358, 2.8201999999999998, 2.82681, 2.8334299999999999, 2.8400400000000001, 2.84666, 2.8532799999999998, 2.85989, 2.8665099999999999, 2.8731300000000002, 2.87975, 2.8863599999999998, 2.8929800000000001, 2.8996, 2.9062199999999998, 2.9128400000000001, 2.9194599999999999, 2.9260799999999998, 2.9327000000000001, 2.9393199999999999, 2.9459499999999998, 2.9525700000000001, 2.95919, 2.9658099999999998, 2.9724400000000002, 2.97906, 2.9856799999999999, 2.9923099999999998, 2.9989300000000001, 3.00556, 3.0121799999999999, 3.0188100000000002, 3.0254400000000001, 3.03206, 3.0386899999999999, 3.0453199999999998, 3.0519500000000002, 3.05857, 3.0651999999999999, 3.0718299999999998, 3.0784600000000002, 3.0850900000000001, 3.09172, 3.0983499999999999, 3.1049799999999999, 3.1116100000000002, 3.1182500000000002, 3.1248800000000001, 3.13151, 3.1381399999999999, 3.1447799999999999, 3.1514099999999998, 3.1580400000000002, 3.1646800000000002, 3.1713100000000001, 3.1779500000000001, 3.18458, 3.1912199999999999, 3.1978499999999999, 3.2044899999999998, 3.2111299999999998, 3.2177600000000002, 3.2244000000000002, 3.2310400000000001, 3.2376800000000001, 3.2443200000000001, 3.2509600000000001, 3.2576000000000001, 3.26424, 3.27088, 3.27752, 3.28416, 3.2907999999999999, 3.2974399999999999, 3.3040799999999999, 3.31073, 3.3173699999999999, 3.3240099999999999, 3.33066, 3.3372999999999999, 3.34395, 3.35059, 3.35724, 3.36388, 3.37053, 3.37717, 3.3838200000000001, 3.3904700000000001, 3.3971200000000001, 3.4037600000000001, 3.4104100000000002, 3.4170600000000002, 3.4237099999999998, 3.4303599999999999, 3.4370099999999999, 3.4436599999999999, 3.45031, 3.45696, 3.4636100000000001, 3.4702600000000001, 3.4769199999999998, 3.4835699999999998, 3.4902199999999999, 3.4968699999999999, 3.50353, 3.5101800000000001, 3.5168400000000002, 3.5234899999999998, 3.5301499999999999, 3.5367999999999999, 3.5434600000000001, 3.5501100000000001, 3.5567700000000002, 3.5634299999999999, 3.5700799999999999, 3.57674, 3.5834000000000001, 3.5900599999999998, 3.5967199999999999, 3.60338, 3.6100400000000001, 3.6166999999999998, 3.6233599999999999, 3.63002, 3.6366800000000001, 3.6433399999999998, 3.6499999999999999, 3.6566700000000001, 3.6633300000000002, 3.6699899999999999, 3.67665, 3.6833200000000001, 3.6899799999999998, 3.69665, 3.7033100000000001, 3.7099799999999998, 3.7166399999999999, 3.7233100000000001, 3.7299799999999999, 3.73664, 3.7433100000000001, 3.7499799999999999, 3.75665, 3.7633100000000002, 3.7699799999999999, 3.7766500000000001, 3.7833199999999998, 3.78999, 3.7966600000000001, 3.8033299999999999, 3.8100000000000001, 3.8166699999999998, 3.82335, 3.8300200000000002, 3.8366899999999999, 3.8433600000000001, 3.8500399999999999, 3.8567100000000001, 3.8633899999999999, 3.8700600000000001, 3.8767299999999998, 3.88341, 3.8900800000000002, 3.89676, 3.9034399999999998, 3.91011, 3.9167900000000002, 3.92347, 3.9301499999999998, 3.93682, 4.0]\n",
    "    \n",
    "\n",
    "    fig=plt.figure()\n",
    "    ax=fig.add_subplot(111)\n",
    "    ax.plot(x_axis,data)\n",
    "    ax.set_xlim(xmin=1.0, xmax=2.6)\n",
    "    ax.set_ylim(ymin=ymin-delta, ymax=ymax+delta)\n",
    "\n",
    "def polar_coordinates_negative(lat, lon, coverage_id):\n",
    "    \n",
    "    rho = 3396190\n",
    "    lat0 = -90\n",
    "    lon0 = coordinates(coverage_id)[2]\n",
    "    \n",
    "    k = 2 / (1 + math.sin(lat0 * rho) * math.sin(lat * rho) + math.cos(lat0 * rho) * math.cos(lat * rho) * math.cos(lon * rho - lon0 * rho))\n",
    "    #print(k)\n",
    "    N = rho * k * (math.cos(lat0 * rho) * math.sin(lat * rho) - math.sin(lat0 * rho) * math.cos(lat * rho) * math.cos(lon * rho - lon0 * rho))\n",
    "    E = rho * k * math.cos(lat * rho) * math.sin(lon * rho - lon0 * rho)\n",
    "\n",
    "    return N,E\n",
    "    \n",
    "def polar_coordinates_positive(lat, lon, coverage_id):\n",
    "    \n",
    "    rho = 3396190\n",
    "    lat0 = 90\n",
    "    lon0 = coordinates(coverage_id)[2]\n",
    "    \n",
    "    k = 2 / (1 + math.sin(lat0 * rho) * math.sin(lat * rho) + math.cos(lat0 * rho) * math.cos(lat * rho) * math.cos(lon * rho - lon0 * rho))\n",
    "    N = rho * k * (math.cos(lat0 * rho) * math.sin(lat * rho) - math.sin(lat0 * rho) * math.cos(lat * rho) * math.cos(lon * rho - lon0 * rho))\n",
    "    E = rho * k * (math.cos(lat * rho) * math.sin(lon * rho - lon0 * rho))\n",
    "    \n",
    "    return N,E\n",
    "\n",
    "    \n",
    "def coordinates_trans(lat, lon, coverage_id):\n",
    "    \n",
    "    if lat > 65:\n",
    "        new_lst_positive = polar_coordinates_positive(lat,lon)\n",
    "        N = new_lst_positive[0]\n",
    "        E = new_lst_positive[1]\n",
    "        \n",
    "    elif lat < -65:\n",
    "        new_lst_negative = polar_coordinates_negative(lat,lon)\n",
    "        N = new_lst_negative[0]\n",
    "        E = new_lst_negative[1]\n",
    "        \n",
    "    else:    \n",
    "        r = 3396190\n",
    "        rho = (math.pi / 180)\n",
    "        E = lon * r * rho\n",
    "        N = lat  * r * rho\n",
    "        \n",
    "    return N, E\n",
    "\n",
    "#print(polar_coordinates_positive(79, 1, \"hrl0000b877_07_if185l_trr3\"))"
   ]
  },
  {
   "cell_type": "code",
   "execution_count": 23,
   "metadata": {},
   "outputs": [],
   "source": [
    "def URL_creator(coverage_id, red, green, blue, summary_products):\n",
    "    # Takes the coverage_id, the bands in red, green and blue and computes their corresponding\n",
    "    # products by looking up from the passed dictionary \"products\"\n",
    "    \n",
    "    # storing FS for each channel with corresponding family function in FSr, FSg, FSb resp.\n",
    "    FSr = summary_products[red][0](summary_products[red][1])[0]\n",
    "    FSg = summary_products[green][0](summary_products[green][1])[0]\n",
    "    FSb = summary_products[blue][0](summary_products[blue][1])[0]\n",
    "       \n",
    "    URL = \"http://access.planetserver.eu:8090/python?wcpsQuery=http://access.planetserver.eu:8080/rasdaman/ows?service=WCS&version=2.0.1&request=ProcessCoverages&query=for data in ( \"+coverage_id+\" ) return encode({ red: \"+FSr+\";green: \"+FSg+\";blue: \"+FSb+\";alpha: (float)((data.band_100 > 0) * 255)}, \\\"png\\\", \\\"nodata=65535\\\")\"\n",
    "    URL = \"http://access.planetserver.eu:8080/rasdaman/ows?service=WCS&version=2.0.1&request=ProcessCoverages&query=for data in ( \"+coverage_id+\" ) return encode({ red: \"+FSr+\";green: \"+FSg+\";blue: \"+FSb+\";alpha: (float)((data.band_100 > 0) * 255)}, \\\"png\\\", \\\"nodata=65535\\\")\"\n",
    "    index = URL.find(\"for\")\n",
    "    URL_to_encode = URL[index:]\n",
    "#    URL_to_encode = 'for data in ( hrl0000c660_07_if184s_trr3 ) return encode( { \\\n",
    "#red: (int)((int)(255 / (max( data.band_38) - min(data.band_38))) * (data.band_38 - min(data.band_38))); \\\n",
    "#green: (int)((int)(255 / (max( data.band_27) - min(data.band_27))) * (data.band_27 - min(data.band_27))); \\\n",
    "#blue: (int)((int)(255 / (max( data.band_13) - min(data.band_13))) * (data.band_13 - min(data.band_13))) ; \\\n",
    "#alpha: (int)((data.band_100 > 0) * 255)}, \"png\", \"nodata=65535\")'\n",
    "    \n",
    "    \n",
    "    params = urllib.parse.urlencode({'service':'WCPS','version':'2.0.1','request':'ProcessCoverages',\n",
    "                                     'query':URL_to_encode})\n",
    "    params=params.encode('utf-8')\n",
    "    f = urllib.request.urlopen('http://access.planetserver.eu:8080/rasdaman/ows', params) \n",
    "    \n",
    "    \n",
    "    \n",
    "    \n",
    "    \n",
    "    encoded_URL='lol'\n",
    "    #params = urllib.parse.urlencode({'query': urllib.request.quote(URL_to_encode)})\n",
    "    #print (urllib.request.quote(URL_to_encode))\n",
    "    \n",
    "    #params = urllib.parse.urlencode(dict(query= urllib.request.quote(URL_to_encode)))\n",
    "    #params = urllib.parse.urlencode({'service':'WCPS','version':'2.0.1','request':'ProcessCoverages',\n",
    "    #                                 'query':URL_to_encode})\n",
    "                                     #urllib.request.quote(URL_to_encode) })\n",
    "    #print(  params)\n",
    "    #params=params.encode('utf-8')\n",
    "    #return params\n",
    "    #f = urllib.request.urlopen('http://access.planetserver.eu:8080/rasdaman/ows', params)    \n",
    "\n",
    "    #f = urllib.urlopen(encoded_URL)\n",
    "    fig = plt.figure(figsize=(8,8))\n",
    "    \n",
    "    coords = coordinates(coverage_id)[0] # taking bounding box coordinates in metres\n",
    "    # read the image file in a numpy array\n",
    "    image = plt.imread(f)\n",
    "    plt.imshow(image)\n",
    "    plt.imshow(image, extent=[coords['minLong'],coords['maxLong'],coords['minLat'],coords['maxLat']])\n",
    "    \n",
    "    # defining a dictionary to collect the coordinate of image clicked\n",
    "\n",
    "    collector = {'x':0.000000,'y':0.000000}\n",
    "\n",
    "    def onclick(event):\n",
    "        #collector.append('button=%d, x=%d, y=%d, xdata=%f, ydata=%f'%(event.button, event.x, event.y, event.xdata, event.ydata))\n",
    "        #collector.append({'x':event.x, 'y':event.y, 'x_data':event.xdata, 'y_data':event.ydata})\n",
    "        collector['x'] = event.xdata\n",
    "        x_clicked = event.xdata\n",
    "        collector['y'] = event.ydata\n",
    "        y_clicked = event.ydata\n",
    "        coordinate_xy = [x_clicked, y_clicked]\n",
    "        print(coordinate_xy)\n",
    "        plot_spectra(coordinate_xy[1], coordinate_xy[0], coverage_id)\n",
    "\n",
    "    cid = fig.canvas.mpl_connect('button_press_event',onclick)\n",
    "\n",
    "    #fig.canvas.mpl_disconnect(cid)\n",
    "    #plt.show()\n",
    "\n",
    "    return URL, encoded_URL, collector\n"
   ]
  },
  {
   "cell_type": "code",
   "execution_count": 24,
   "metadata": {},
   "outputs": [],
   "source": [
    "# def URL_creator(coverage_id, red, green, blue, summary_products):\n",
    "#     # Takes the coverage_id, the bands in red, green and blue and computes their corresponding\n",
    "#     # products by looking up from the passed dictionary \"products\"\n",
    "    \n",
    "#     # storing FS for each channel with corresponding family function in FSr, FSg, FSb resp.\n",
    "#     FSr = summary_products[red][0](summary_products[red][1])[0]\n",
    "#     FSg = summary_products[green][0](summary_products[green][1])[0]\n",
    "#     FSb = summary_products[blue][0](summary_products[blue][1])[0]\n",
    "       \n",
    "#     URL = \"http://access.planetserver.eu:8090/python?wcpsQuery=http://access.planetserver.eu:8080/rasdaman/ows?service=WCS&version=2.0.1&request=ProcessCoverages&query=for data in ( \"+coverage_id+\" ) return encode({ red: \"+FSr+\";green: \"+FSg+\";blue: \"+FSb+\";alpha: (float)((data.band_100 > 0) * 255)}, \\\"png\\\", \\\"nodata=65535\\\")\"\n",
    "   \n",
    "#     index = URL.find(\"for\")\n",
    "#     URL_to_encode = URL[index:]\n",
    "    \n",
    "    \n",
    "    \n",
    "# #    url = \"http://localhost:8090/python\"\n",
    "# #    petascopeEndPoint = 'http://mars.planetserver.eu:8080/rasdaman/ows?query='\n",
    "\n",
    "# #    wcpsQuery = 'for data in (' + str(coverage_id) +') return encode({ red: ( (float)((int)( 255 / ( max((1 - (data.band_178 / ((0.800164224902) * data.band_171 + (0.199835775098) * data.band_206)))) - min((1 - (data.band_178 / ((0.800164224902) * data.band_171 + (0.199835775098) * data.band_206)))) )) * ( ((1 - (data.band_178 / ((0.800164224902) * data.band_171 + (0.199835775098) * data.band_206)))) - min((1 - (data.band_178 / ((0.800164224902) * data.band_171 + (0.199835775098) * data.band_206)))) )) < (float)((int)( 255 / ( max((1 - (data.band_185 / ((0.600198798565) * data.band_171 + (0.399801201435) * data.band_206)))) - min((1 - (data.band_185 / ((0.600198798565) * data.band_171 + (0.399801201435) * data.band_206)))) )) * ( ((1 - (data.band_185 / ((0.600198798565) * data.band_171 + (0.399801201435) * data.band_206)))) - min((1 - (data.band_185 / ((0.600198798565) * data.band_171 + (0.399801201435) * data.band_206)))) )) ) * (float)((int)( 255 / ( max((1 - (data.band_178 / ((0.800164224902) * data.band_171 + (0.199835775098) * data.band_206)))) - min((1 - (data.band_178 / ((0.800164224902) * data.band_171 + (0.199835775098) * data.band_206)))) )) * ( ((1 - (data.band_178 / ((0.800164224902) * data.band_171 + (0.199835775098) * data.band_206)))) - min((1 - (data.band_178 / ((0.800164224902) * data.band_171 + (0.199835775098) * data.band_206)))) )) + ( (float)((int)( 255 / ( max((1 - (data.band_178 / ((0.800164224902) * data.band_171 + (0.199835775098) * data.band_206)))) - min((1 - (data.band_178 / ((0.800164224902) * data.band_171 + (0.199835775098) * data.band_206)))) )) * ( ((1 - (data.band_178 / ((0.800164224902) * data.band_171 + (0.199835775098) * data.band_206)))) - min((1 - (data.band_178 / ((0.800164224902) * data.band_171 + (0.199835775098) * data.band_206)))) )) > (float)((int)( 255 / ( max((1 - (data.band_185 / ((0.600198798565) * data.band_171 + (0.399801201435) * data.band_206)))) - min((1 - (data.band_185 / ((0.600198798565) * data.band_171 + (0.399801201435) * data.band_206)))) )) * ( ((1 - (data.band_185 / ((0.600198798565) * data.band_171 + (0.399801201435) * data.band_206)))) - min((1 - (data.band_185 / ((0.600198798565) * data.band_171 + (0.399801201435) * data.band_206)))) )) ) * (float)((int)( 255 / ( max((1 - (data.band_185 / ((0.600198798565) * data.band_171 + (0.399801201435) * data.band_206)))) - min((1 - (data.band_185 / ((0.600198798565) * data.band_171 + (0.399801201435) * data.band_206)))) )) * ( ((1 - (data.band_185 / ((0.600198798565) * data.band_171 + (0.399801201435) * data.band_206)))) - min((1 - (data.band_185 / ((0.600198798565) * data.band_171 + (0.399801201435) * data.band_206)))) ));green: (float)((int)( 255 / ( max((1-((data.band_197) / (((data.band_233 - data.band_125) / (2.53 - 1.815)) * 2.29 + (data.band_233 - ((data.band_233 - data.band_125) / (2.53 - 1.815)) * 2.53)) + (data.band_201) / (((data.band_233 - data.band_125) / (2.53 - 1.815)) * 2.32 + (data.band_233 - ((data.band_233 - data.band_125) / (2.53 - 1.815)) * 2.53)) + (data.band_203) / (((data.band_233 - data.band_125) / (2.53 - 1.815)) * 2.33 + (data.band_233 - ((data.band_233 - data.band_125) / (2.53 - 1.815)) * 2.53)) / (data.band_171) / (((data.band_233 - data.band_125) / (2.53 - 1.815)) * 2.12 + (data.band_233 - ((data.band_233 - data.band_125) / (2.53 - 1.815)) * 2.53)) + (data.band_179) / (((data.band_233 - data.band_125) / (2.53 - 1.815)) * 2.17 + (data.band_233 - ((data.band_233 - data.band_125) / (2.53 - 1.815)) * 2.53)) + (data.band_185) / (((data.band_233 - data.band_125) / (2.53 - 1.815)) * 2.21 + (data.band_233 - ((data.band_233 - data.band_125) / (2.53 - 1.815)) * 2.53))))) - min((1-((data.band_197) / (((data.band_233 - data.band_125) / (2.53 - 1.815)) * 2.29 + (data.band_233 - ((data.band_233 - data.band_125) / (2.53 - 1.815)) * 2.53)) + (data.band_201) / (((data.band_233 - data.band_125) / (2.53 - 1.815)) * 2.32 + (data.band_233 - ((data.band_233 - data.band_125) / (2.53 - 1.815)) * 2.53)) + (data.band_203) / (((data.band_233 - data.band_125) / (2.53 - 1.815)) * 2.33 + (data.band_233 - ((data.band_233 - data.band_125) / (2.53 - 1.815)) * 2.53)) / (data.band_171) / (((data.band_233 - data.band_125) / (2.53 - 1.815)) * 2.12 + (data.band_233 - ((data.band_233 - data.band_125) / (2.53 - 1.815)) * 2.53)) + (data.band_179) / (((data.band_233 - data.band_125) / (2.53 - 1.815)) * 2.17 + (data.band_233 - ((data.band_233 - data.band_125) / (2.53 - 1.815)) * 2.53)) + (data.band_185) / (((data.band_233 - data.band_125) / (2.53 - 1.815)) * 2.21 + (data.band_233 - ((data.band_233 - data.band_125) / (2.53 - 1.815)) * 2.53))))) )) * ( ((1-((data.band_197) / (((data.band_233 - data.band_125) / (2.53 - 1.815)) * 2.29 + (data.band_233 - ((data.band_233 - data.band_125) / (2.53 - 1.815)) * 2.53)) + (data.band_201) / (((data.band_233 - data.band_125) / (2.53 - 1.815)) * 2.32 + (data.band_233 - ((data.band_233 - data.band_125) / (2.53 - 1.815)) * 2.53)) + (data.band_203) / (((data.band_233 - data.band_125) / (2.53 - 1.815)) * 2.33 + (data.band_233 - ((data.band_233 - data.band_125) / (2.53 - 1.815)) * 2.53)) / (data.band_171) / (((data.band_233 - data.band_125) / (2.53 - 1.815)) * 2.12 + (data.band_233 - ((data.band_233 - data.band_125) / (2.53 - 1.815)) * 2.53)) + (data.band_179) / (((data.band_233 - data.band_125) / (2.53 - 1.815)) * 2.17 + (data.band_233 - ((data.band_233 - data.band_125) / (2.53 - 1.815)) * 2.53)) + (data.band_185) / (((data.band_233 - data.band_125) / (2.53 - 1.815)) * 2.21 + (data.band_233 - ((data.band_233 - data.band_125) / (2.53 - 1.815)) * 2.53))))) - min((1-((data.band_197) / (((data.band_233 - data.band_125) / (2.53 - 1.815)) * 2.29 + (data.band_233 - ((data.band_233 - data.band_125) / (2.53 - 1.815)) * 2.53)) + (data.band_201) / (((data.band_233 - data.band_125) / (2.53 - 1.815)) * 2.32 + (data.band_233 - ((data.band_233 - data.band_125) / (2.53 - 1.815)) * 2.53)) + (data.band_203) / (((data.band_233 - data.band_125) / (2.53 - 1.815)) * 2.33 + (data.band_233 - ((data.band_233 - data.band_125) / (2.53 - 1.815)) * 2.53)) / (data.band_171) / (((data.band_233 - data.band_125) / (2.53 - 1.815)) * 2.12 + (data.band_233 - ((data.band_233 - data.band_125) / (2.53 - 1.815)) * 2.53)) + (data.band_179) / (((data.band_233 - data.band_125) / (2.53 - 1.815)) * 2.17 + (data.band_233 - ((data.band_233 - data.band_125) / (2.53 - 1.815)) * 2.53)) + (data.band_185) / (((data.band_233 - data.band_125) / (2.53 - 1.815)) * 2.21 + (data.band_233 - ((data.band_233 - data.band_125) / (2.53 - 1.815)) * 2.53))))) ));blue: (float)((int)( 255 / ( max(((((((data.band_233 - data.band_106) / (2.53 - 1.69)) * 2.12 + (data.band_233 - ((data.band_233 - data.band_106) / (2.53 - 1.69)) * 2.53)) - (data.band_171))/ (((data.band_233 - data.band_106) / (2.53 - 1.69)) * 2.12 + (data.band_233 - ((data.band_233 - data.band_106) / (2.53 - 1.69)) * 2.53))) * 0.1 + (((((data.band_233 - data.band_106) / (2.53 - 1.69)) * 2.14 + (data.band_233 - ((data.band_233 - data.band_106) / (2.53 - 1.69)) * 2.53)) - (data.band_174))/ (((data.band_233 - data.band_106) / (2.53 - 1.69)) * 2.14 + (data.band_233 - ((data.band_233 - data.band_106) / (2.53 - 1.69)) * 2.53))) * 0.1)) - min(((((((data.band_233 - data.band_106) / (2.53 - 1.69)) * 2.12 + (data.band_233 - ((data.band_233 - data.band_106) / (2.53 - 1.69)) * 2.53)) - (data.band_171))/ (((data.band_233 - data.band_106) / (2.53 - 1.69)) * 2.12 + (data.band_233 - ((data.band_233 - data.band_106) / (2.53 - 1.69)) * 2.53))) * 0.1 + (((((data.band_233 - data.band_106) / (2.53 - 1.69)) * 2.14 + (data.band_233 - ((data.band_233 - data.band_106) / (2.53 - 1.69)) * 2.53)) - (data.band_174))/ (((data.band_233 - data.band_106) / (2.53 - 1.69)) * 2.14 + (data.band_233 - ((data.band_233 - data.band_106) / (2.53 - 1.69)) * 2.53))) * 0.1)) )) * ( (((((((data.band_233 - data.band_106) / (2.53 - 1.69)) * 2.12 + (data.band_233 - ((data.band_233 - data.band_106) / (2.53 - 1.69)) * 2.53)) - (data.band_171))/ (((data.band_233 - data.band_106) / (2.53 - 1.69)) * 2.12 + (data.band_233 - ((data.band_233 - data.band_106) / (2.53 - 1.69)) * 2.53))) * 0.1 + (((((data.band_233 - data.band_106) / (2.53 - 1.69)) * 2.14 + (data.band_233 - ((data.band_233 - data.band_106) / (2.53 - 1.69)) * 2.53)) - (data.band_174))/ (((data.band_233 - data.band_106) / (2.53 - 1.69)) * 2.14 + (data.band_233 - ((data.band_233 - data.band_106) / (2.53 - 1.69)) * 2.53))) * 0.1)) - min(((((((data.band_233 - data.band_106) / (2.53 - 1.69)) * 2.12 + (data.band_233 - ((data.band_233 - data.band_106) / (2.53 - 1.69)) * 2.53)) - (data.band_171))/ (((data.band_233 - data.band_106) / (2.53 - 1.69)) * 2.12 + (data.band_233 - ((data.band_233 - data.band_106) / (2.53 - 1.69)) * 2.53))) * 0.1 + (((((data.band_233 - data.band_106) / (2.53 - 1.69)) * 2.14 + (data.band_233 - ((data.band_233 - data.band_106) / (2.53 - 1.69)) * 2.53)) - (data.band_174))/ (((data.band_233 - data.band_106) / (2.53 - 1.69)) * 2.14 + (data.band_233 - ((data.band_233 - data.band_106) / (2.53 - 1.69)) * 2.53))) * 0.1)) ));alpha: (float)((data.band_100 > 0) * 255)}, \"tiff\", \"nodata=65535\")'\n",
    "\n",
    "# #    # must enquote the query or it is not valid request\n",
    "# #    URI = petascopeEndPoint + urllib.quote(wcpsQuery)\n",
    "\n",
    "# #    data = urllib.urlencode({'wcpsQuery' : URI})\n",
    "# #    req = urllib2.Request(url, data)\n",
    "\n",
    "\n",
    "\n",
    "\n",
    "#     encoded_URL='lol'\n",
    "#     params = urllib.parse.urlencode({'query': urllib.parse.quote(URL_to_encode)}).encode(\"utf-8\")\n",
    "#     f = urllib.request.urlopen(\"http://access.planetserver.eu:8080/rasdaman/ows\", params)    \n",
    "\n",
    "#     #f = urllib.urlopen(encoded_URL)\n",
    "#     fig = plt.figure(figsize=(8,8))\n",
    "    \n",
    "#     coords = coordinates(coverage_id)[0] # taking bounding box coordinates in metres\n",
    "#     # read the image file in a numpy array\n",
    "#     image = plt.imread(f)\n",
    "#     plt.imshow(image)\n",
    "#     plt.imshow(image, extent=[coords['minLong'],coords['maxLong'],coords['minLat'],coords['maxLat']])\n",
    "    \n",
    "#     # defining a dictionary to collect the coordinate of image clicked\n",
    "\n",
    "#     collector = {'x':0.000000,'y':0.000000}\n",
    "\n",
    "#     def onclick(event):\n",
    "#         #collector.append('button=%d, x=%d, y=%d, xdata=%f, ydata=%f'%(event.button, event.x, event.y, event.xdata, event.ydata))\n",
    "#         #collector.append({'x':event.x, 'y':event.y, 'x_data':event.xdata, 'y_data':event.ydata})\n",
    "#         collector['x'] = event.xdata\n",
    "#         x_clicked = event.xdata\n",
    "#         collector['y'] = event.ydata\n",
    "#         y_clicked = event.ydata\n",
    "#         coordinate_xy = [x_clicked, y_clicked]\n",
    "#         print(coordinate_xy)\n",
    "#         plot_spectra(coordinate_xy[1], coordinate_xy[0], coverage_id)\n",
    "\n",
    "#     cid = fig.canvas.mpl_connect('button_press_event',onclick)\n",
    "\n",
    "#     #fig.canvas.mpl_disconnect(cid)\n",
    "#     #plt.show()\n",
    "\n",
    "#     return URL, encoded_URL, collector\n"
   ]
  },
  {
   "cell_type": "code",
   "execution_count": 25,
   "metadata": {},
   "outputs": [
    {
     "name": "stdout",
     "output_type": "stream",
     "text": [
      "Number of products in the dictionary =  44\n",
      "\n",
      "f8 example:  (1 - ((1 - (1 - (data.band_67 / ((0.33333333333333404) * data.band_57 + (0.666666666666666) * data.band_72)))) / (1 - (1 - (data.band_81 / ((0.6421797722219704) * data.band_57 + (0.3578202277780296) * data.band_124))))))\n"
     ]
    }
   ],
   "source": [
    "print(\"Number of products in the dictionary = \", len(summary_products))\n",
    "\n",
    "print(\"\\nf8 example: \", f8([summary_products, \"BD1435\", \"BD1500_2\"])[1])"
   ]
  },
  {
   "cell_type": "code",
   "execution_count": 26,
   "metadata": {},
   "outputs": [
    {
     "name": "stdout",
     "output_type": "stream",
     "text": [
      "summary products list:\n"
     ]
    },
    {
     "data": {
      "text/plain": [
       "{'BD1300': [<function __main__.f1(lst=[])>, ['R1320', 'R1080', 'R1750']],\n",
       " 'BD1400': [<function __main__.f1(lst=[])>, ['R1395', 'R1330', 'R1467']],\n",
       " 'BD1435': [<function __main__.f1(lst=[])>, ['R1435', 'R1370', 'R1470']],\n",
       " 'BD1500_2': [<function __main__.f1(lst=[])>, ['R1525', 'R1367', 'R1808']],\n",
       " 'BD1750_2': [<function __main__.f1(lst=[])>, ['R1750', 'R1690', 'R1815']],\n",
       " 'BD2100_2': [<function __main__.f1(lst=[])>, ['R2132', 'R1930', 'R2250']],\n",
       " 'BD2165': [<function __main__.f1(lst=[])>, ['R2165', 'R21!!!20', 'R2230']],\n",
       " 'BD2190': [<function __main__.f1(lst=[])>, ['R2185', 'R2120', 'R2250']],\n",
       " 'BD2210_2': [<function __main__.f1(lst=[])>, ['R2210', 'R2165', 'R2250']],\n",
       " 'BD2230': [<function __main__.f1(lst=[])>, ['R2235', 'R2210', 'R2252']],\n",
       " 'BD2250': [<function __main__.f1(lst=[])>, ['R2245', 'R2120', 'R2340']],\n",
       " 'BD2265': [<function __main__.f1(lst=[])>, ['R2265', 'R2210', 'R2340']],\n",
       " 'BD2290': [<function __main__.f1(lst=[])>, ['R2290', 'R2250', 'R2350']],\n",
       " 'BD2355': [<function __main__.f1(lst=[])>, ['R2355', 'R2300', 'R2450']],\n",
       " 'BD2500_2': [<function __main__.f1(lst=[])>, ['R2480', 'R2364', 'R2570']],\n",
       " 'BD3100': [<function __main__.f1(lst=[])>, ['R3120', 'R3000', 'R3250']],\n",
       " 'BD3200': [<function __main__.f1(lst=[])>, ['R3320', 'R3250', 'R3390']],\n",
       " 'BD3400_2': [<function __main__.f1(lst=[])>, ['R3420', 'R3250', 'R3630']],\n",
       " 'BD2600': [<function __main__.f1(lst=[])>, ['R2600', 'R2530', 'R2630']],\n",
       " 'MIN2200': [<function __main__.f2(lst=[])>,\n",
       "  ['R2165', 'R2120', 'R2350', 'R2210', 'R2120', 'R2350']],\n",
       " 'MIN2250': [<function __main__.f2(lst=[])>,\n",
       "  ['R2210', 'R2165', 'R2350', 'R2265', 'R2165', 'R2350']],\n",
       " 'MIN2295_2480': [<function __main__.f2(lst=[])>,\n",
       "  ['R2295', 'R2165', 'R2364', 'R2480', 'R2364', 'R2570']],\n",
       " 'MIN2345_2537': [<function __main__.f2(lst=[])>,\n",
       "  ['R2345', 'R2250', 'R2430', 'R2537', 'R2430', 'R2602']],\n",
       " 'BD1900_2': [<function __main__.f3(lst=[])>,\n",
       "  ['R1930', 'R1850', 'R2067', 'R1985', 'R1850', 'R2067']],\n",
       " 'R1330': [<function __main__.f4(lst=[])>, ['R1330']],\n",
       " 'R1080': [<function __main__.f4(lst=[])>, ['R1080']],\n",
       " 'R1506': [<function __main__.f4(lst=[])>, ['R1506']],\n",
       " 'R2529': [<function __main__.f4(lst=[])>, ['R2529']],\n",
       " 'R3920': [<function __main__.f4(lst=[])>, ['R3920']],\n",
       " 'IRR2': [<function __main__.f5(lst=[])>, ['R2530', 'R2210']],\n",
       " 'IRR3': [<function __main__.f5(lst=[])>, ['R3500', 'R3390']],\n",
       " 'BD3000': [<function __main__.f6(lst=[])>,\n",
       "  ['R3000', 'R2530', 'R2530', 'R2210']],\n",
       " 'SINDEX2': [<function __main__.f7(lst=[])>, ['R2120', 'R2400', 'R2290']],\n",
       " 'CINDEX2': [<function __main__.f7(lst=[])>, ['R3450', 'R3875', 'R3610']],\n",
       " 'ISLOPE1': [<function __main__.f9(lst=[])>, ['R1815', 'R2530']],\n",
       " 'ICER2_2': [<function __main__.f10(lst=[])>, ['RB2600', ['R2456', 'R2530']]],\n",
       " 'D2200': [<function __main__.f11(lst=[])>,\n",
       "  [['R2210', 'R2230'], ['R2165', 'R2165'], ['R1815', 'R2430']]],\n",
       " 'D2300': [<function __main__.f11(lst=[])>,\n",
       "  [['R2290', 'R2320', 'R2330'],\n",
       "   ['R2120', 'R2170', 'R2210'],\n",
       "   ['R1815', 'R2530']]],\n",
       " 'BD1900r2': [<function __main__.f11(lst=[])>,\n",
       "  [['R1908', 'R1914', 'R1921', 'R1928', 'R1934', 'R1941'],\n",
       "   ['R1862', 'R1869', 'R1875', 'R2112', 'R2120', 'R2126'],\n",
       "   ['R1850', 'R2060']]],\n",
       " 'LCPINDEX2': [<function __main__.f12(lst=[])>,\n",
       "  [['RB1690', 0.2],\n",
       "   ['RB1750', 0.2],\n",
       "   ['RB1810', 0.3],\n",
       "   ['RB1870', 0.3],\n",
       "   ['R1560', 'R2450']]],\n",
       " 'HCPINDEX2': [<function __main__.f12(lst=[])>,\n",
       "  [['RB2120', 0.1],\n",
       "   ['RB2140', 0.1],\n",
       "   ['RB2230', 0.15],\n",
       "   ['RB2250', 0.3],\n",
       "   ['RB2430', 0.2],\n",
       "   ['RB2460', 0.15],\n",
       "   ['R1690', 'R2530']]],\n",
       " 'OLINDEX3': [<function __main__.f13(lst=[])>,\n",
       "  [['RB1210', 0.1],\n",
       "   ['RB1250', 0.1],\n",
       "   ['RB1263', 0.2],\n",
       "   ['RB1276', 0.2],\n",
       "   ['RB1330', 0.4],\n",
       "   ['R1750', 'R1860']]],\n",
       " 'HCPINDEX3': [<function __main__.f12(lst=[])>,\n",
       "  [['RB2120', 0.1], ['RB2140', 0.1], ['R1690', 'R2530']]],\n",
       " 'ICER1_2': [<function __main__.f8(lst=[])>, [{...}, 'BD1435', 'BD1500_2']]}"
      ]
     },
     "execution_count": 26,
     "metadata": {},
     "output_type": "execute_result"
    }
   ],
   "source": [
    "print(\"summary products list:\")\n",
    "summary_products"
   ]
  },
  {
   "cell_type": "markdown",
   "metadata": {},
   "source": [
    "## User input and analysed image"
   ]
  },
  {
   "cell_type": "code",
   "execution_count": null,
   "metadata": {
    "scrolled": false
   },
   "outputs": [],
   "source": [
    "r = \"BD1900_2\"\n",
    "g = \"MIN2200\"\n",
    "b = \"D2300\"\n",
    "\n",
    "# Note : Please take care that the coverage id has letters in lower case!\n",
    "coverage_id = \"frt00008c6d_07_if187l_trr3\"\n",
    "\n",
    "url, encoded_url, point_clicked = URL_creator(coverage_id, r, g, b, summary_products)\n",
    "\n",
    "print(URL_creator(coverage_id, r, g, b, summary_products))"
   ]
  },
  {
   "cell_type": "markdown",
   "metadata": {},
   "source": [
    "## Spectral Analysis tool\n",
    "* Uncomment the code below\n",
    "* Click a point in the image\n",
    "* Re-run the cell"
   ]
  },
  {
   "cell_type": "code",
   "execution_count": 29,
   "metadata": {},
   "outputs": [
    {
     "name": "stdout",
     "output_type": "stream",
     "text": [
      "{'x': 0.0, 'y': 0.0}\n"
     ]
    },
    {
     "ename": "HTTPError",
     "evalue": "HTTP Error 404: Not Found",
     "output_type": "error",
     "traceback": [
      "\u001b[0;31m---------------------------------------------------------------------------\u001b[0m",
      "\u001b[0;31mHTTPError\u001b[0m                                 Traceback (most recent call last)",
      "\u001b[0;32m<ipython-input-29-cee1d7d011c0>\u001b[0m in \u001b[0;36m<module>\u001b[0;34m()\u001b[0m\n\u001b[1;32m      8\u001b[0m \u001b[0mcoordinate_y\u001b[0m \u001b[0;34m=\u001b[0m \u001b[0mcoordinates_xy\u001b[0m\u001b[0;34m[\u001b[0m\u001b[0;36m0\u001b[0m\u001b[0;34m]\u001b[0m\u001b[0;34m\u001b[0m\u001b[0m\n\u001b[1;32m      9\u001b[0m \u001b[0;34m\u001b[0m\u001b[0m\n\u001b[0;32m---> 10\u001b[0;31m \u001b[0mplot_spectra\u001b[0m\u001b[0;34m(\u001b[0m\u001b[0mcoordinate_y\u001b[0m\u001b[0;34m,\u001b[0m \u001b[0mcoordinate_x\u001b[0m\u001b[0;34m,\u001b[0m \u001b[0mcoverage_id\u001b[0m\u001b[0;34m)\u001b[0m\u001b[0;34m\u001b[0m\u001b[0m\n\u001b[0m",
      "\u001b[0;32m<ipython-input-22-b05de4250f52>\u001b[0m in \u001b[0;36mplot_spectra\u001b[0;34m(N, E, coverage_id)\u001b[0m\n\u001b[1;32m      7\u001b[0m \u001b[0;34m\u001b[0m\u001b[0m\n\u001b[1;32m      8\u001b[0m     \u001b[0mquery\u001b[0m \u001b[0;34m=\u001b[0m \u001b[0;34m\"http://access.planetserver.eu:8080/rasdaman/ows?query=for%20c%20in%20(\"\u001b[0m \u001b[0;34m+\u001b[0m \u001b[0mcoverage_id\u001b[0m \u001b[0;34m+\u001b[0m \u001b[0;34m\")%20return%20encode(c[%20N(\"\u001b[0m \u001b[0;34m+\u001b[0m \u001b[0mstr\u001b[0m\u001b[0;34m(\u001b[0m\u001b[0mN\u001b[0m\u001b[0;34m)\u001b[0m \u001b[0;34m+\u001b[0m \u001b[0;34m\":\"\u001b[0m \u001b[0;34m+\u001b[0m \u001b[0mstr\u001b[0m\u001b[0;34m(\u001b[0m\u001b[0mN\u001b[0m\u001b[0;34m)\u001b[0m \u001b[0;34m+\u001b[0m \u001b[0;34m\"),%20E(\"\u001b[0m \u001b[0;34m+\u001b[0m \u001b[0mstr\u001b[0m\u001b[0;34m(\u001b[0m\u001b[0mE\u001b[0m\u001b[0;34m)\u001b[0m \u001b[0;34m+\u001b[0m \u001b[0;34m\":\"\u001b[0m \u001b[0;34m+\u001b[0m \u001b[0mstr\u001b[0m\u001b[0;34m(\u001b[0m\u001b[0mE\u001b[0m\u001b[0;34m)\u001b[0m \u001b[0;34m+\u001b[0m \u001b[0;34m\")%20],%20%22csv%22)\"\u001b[0m\u001b[0;34m\u001b[0m\u001b[0m\n\u001b[0;32m----> 9\u001b[0;31m     \u001b[0mdata\u001b[0m \u001b[0;34m=\u001b[0m \u001b[0mget_data\u001b[0m\u001b[0;34m(\u001b[0m\u001b[0mquery\u001b[0m\u001b[0;34m)\u001b[0m\u001b[0;34m\u001b[0m\u001b[0m\n\u001b[0m\u001b[1;32m     10\u001b[0m     \u001b[0;32mfor\u001b[0m \u001b[0mx\u001b[0m \u001b[0;32min\u001b[0m \u001b[0mrange\u001b[0m \u001b[0;34m(\u001b[0m\u001b[0;36m0\u001b[0m\u001b[0;34m,\u001b[0m\u001b[0mlen\u001b[0m\u001b[0;34m(\u001b[0m\u001b[0mdata\u001b[0m\u001b[0;34m)\u001b[0m\u001b[0;34m)\u001b[0m\u001b[0;34m:\u001b[0m\u001b[0;34m\u001b[0m\u001b[0m\n\u001b[1;32m     11\u001b[0m         \u001b[0;32mif\u001b[0m \u001b[0mdata\u001b[0m\u001b[0;34m[\u001b[0m\u001b[0mx\u001b[0m\u001b[0;34m]\u001b[0m \u001b[0;34m==\u001b[0m \u001b[0;36m65535\u001b[0m \u001b[0;32mor\u001b[0m \u001b[0mmath\u001b[0m\u001b[0;34m.\u001b[0m\u001b[0misnan\u001b[0m\u001b[0;34m(\u001b[0m\u001b[0mdata\u001b[0m\u001b[0;34m[\u001b[0m\u001b[0mx\u001b[0m\u001b[0;34m]\u001b[0m\u001b[0;34m)\u001b[0m\u001b[0;34m:\u001b[0m\u001b[0;34m\u001b[0m\u001b[0m\n",
      "\u001b[0;32m<ipython-input-22-b05de4250f52>\u001b[0m in \u001b[0;36mget_data\u001b[0;34m(url)\u001b[0m\n\u001b[1;32m      1\u001b[0m \u001b[0;32mdef\u001b[0m \u001b[0mget_data\u001b[0m\u001b[0;34m(\u001b[0m\u001b[0murl\u001b[0m\u001b[0;34m)\u001b[0m\u001b[0;34m:\u001b[0m\u001b[0;34m\u001b[0m\u001b[0m\n\u001b[0;32m----> 2\u001b[0;31m    \u001b[0mresponse\u001b[0m \u001b[0;34m=\u001b[0m \u001b[0murllib\u001b[0m\u001b[0;34m.\u001b[0m\u001b[0mrequest\u001b[0m\u001b[0;34m.\u001b[0m\u001b[0murlopen\u001b[0m\u001b[0;34m(\u001b[0m\u001b[0murl\u001b[0m\u001b[0;34m)\u001b[0m\u001b[0;34m\u001b[0m\u001b[0m\n\u001b[0m\u001b[1;32m      3\u001b[0m    \u001b[0mdata\u001b[0m \u001b[0;34m=\u001b[0m \u001b[0mnp\u001b[0m\u001b[0;34m.\u001b[0m\u001b[0mgenfromtxt\u001b[0m\u001b[0;34m(\u001b[0m\u001b[0mresponse\u001b[0m\u001b[0;34m,\u001b[0m\u001b[0mdelimiter\u001b[0m \u001b[0;34m=\u001b[0m \u001b[0;34m' '\u001b[0m\u001b[0;34m,\u001b[0m \u001b[0mdtype\u001b[0m \u001b[0;34m=\u001b[0m \u001b[0mfloat\u001b[0m\u001b[0;34m)\u001b[0m\u001b[0;34m\u001b[0m\u001b[0m\n\u001b[1;32m      4\u001b[0m    \u001b[0;32mreturn\u001b[0m \u001b[0mdata\u001b[0m\u001b[0;34m\u001b[0m\u001b[0m\n\u001b[1;32m      5\u001b[0m \u001b[0;34m\u001b[0m\u001b[0m\n",
      "\u001b[0;32m~/miniconda/envs/py36/lib/python3.6/urllib/request.py\u001b[0m in \u001b[0;36murlopen\u001b[0;34m(url, data, timeout, cafile, capath, cadefault, context)\u001b[0m\n\u001b[1;32m    221\u001b[0m     \u001b[0;32melse\u001b[0m\u001b[0;34m:\u001b[0m\u001b[0;34m\u001b[0m\u001b[0m\n\u001b[1;32m    222\u001b[0m         \u001b[0mopener\u001b[0m \u001b[0;34m=\u001b[0m \u001b[0m_opener\u001b[0m\u001b[0;34m\u001b[0m\u001b[0m\n\u001b[0;32m--> 223\u001b[0;31m     \u001b[0;32mreturn\u001b[0m \u001b[0mopener\u001b[0m\u001b[0;34m.\u001b[0m\u001b[0mopen\u001b[0m\u001b[0;34m(\u001b[0m\u001b[0murl\u001b[0m\u001b[0;34m,\u001b[0m \u001b[0mdata\u001b[0m\u001b[0;34m,\u001b[0m \u001b[0mtimeout\u001b[0m\u001b[0;34m)\u001b[0m\u001b[0;34m\u001b[0m\u001b[0m\n\u001b[0m\u001b[1;32m    224\u001b[0m \u001b[0;34m\u001b[0m\u001b[0m\n\u001b[1;32m    225\u001b[0m \u001b[0;32mdef\u001b[0m \u001b[0minstall_opener\u001b[0m\u001b[0;34m(\u001b[0m\u001b[0mopener\u001b[0m\u001b[0;34m)\u001b[0m\u001b[0;34m:\u001b[0m\u001b[0;34m\u001b[0m\u001b[0m\n",
      "\u001b[0;32m~/miniconda/envs/py36/lib/python3.6/urllib/request.py\u001b[0m in \u001b[0;36mopen\u001b[0;34m(self, fullurl, data, timeout)\u001b[0m\n\u001b[1;32m    530\u001b[0m         \u001b[0;32mfor\u001b[0m \u001b[0mprocessor\u001b[0m \u001b[0;32min\u001b[0m \u001b[0mself\u001b[0m\u001b[0;34m.\u001b[0m\u001b[0mprocess_response\u001b[0m\u001b[0;34m.\u001b[0m\u001b[0mget\u001b[0m\u001b[0;34m(\u001b[0m\u001b[0mprotocol\u001b[0m\u001b[0;34m,\u001b[0m \u001b[0;34m[\u001b[0m\u001b[0;34m]\u001b[0m\u001b[0;34m)\u001b[0m\u001b[0;34m:\u001b[0m\u001b[0;34m\u001b[0m\u001b[0m\n\u001b[1;32m    531\u001b[0m             \u001b[0mmeth\u001b[0m \u001b[0;34m=\u001b[0m \u001b[0mgetattr\u001b[0m\u001b[0;34m(\u001b[0m\u001b[0mprocessor\u001b[0m\u001b[0;34m,\u001b[0m \u001b[0mmeth_name\u001b[0m\u001b[0;34m)\u001b[0m\u001b[0;34m\u001b[0m\u001b[0m\n\u001b[0;32m--> 532\u001b[0;31m             \u001b[0mresponse\u001b[0m \u001b[0;34m=\u001b[0m \u001b[0mmeth\u001b[0m\u001b[0;34m(\u001b[0m\u001b[0mreq\u001b[0m\u001b[0;34m,\u001b[0m \u001b[0mresponse\u001b[0m\u001b[0;34m)\u001b[0m\u001b[0;34m\u001b[0m\u001b[0m\n\u001b[0m\u001b[1;32m    533\u001b[0m \u001b[0;34m\u001b[0m\u001b[0m\n\u001b[1;32m    534\u001b[0m         \u001b[0;32mreturn\u001b[0m \u001b[0mresponse\u001b[0m\u001b[0;34m\u001b[0m\u001b[0m\n",
      "\u001b[0;32m~/miniconda/envs/py36/lib/python3.6/urllib/request.py\u001b[0m in \u001b[0;36mhttp_response\u001b[0;34m(self, request, response)\u001b[0m\n\u001b[1;32m    640\u001b[0m         \u001b[0;32mif\u001b[0m \u001b[0;32mnot\u001b[0m \u001b[0;34m(\u001b[0m\u001b[0;36m200\u001b[0m \u001b[0;34m<=\u001b[0m \u001b[0mcode\u001b[0m \u001b[0;34m<\u001b[0m \u001b[0;36m300\u001b[0m\u001b[0;34m)\u001b[0m\u001b[0;34m:\u001b[0m\u001b[0;34m\u001b[0m\u001b[0m\n\u001b[1;32m    641\u001b[0m             response = self.parent.error(\n\u001b[0;32m--> 642\u001b[0;31m                 'http', request, response, code, msg, hdrs)\n\u001b[0m\u001b[1;32m    643\u001b[0m \u001b[0;34m\u001b[0m\u001b[0m\n\u001b[1;32m    644\u001b[0m         \u001b[0;32mreturn\u001b[0m \u001b[0mresponse\u001b[0m\u001b[0;34m\u001b[0m\u001b[0m\n",
      "\u001b[0;32m~/miniconda/envs/py36/lib/python3.6/urllib/request.py\u001b[0m in \u001b[0;36merror\u001b[0;34m(self, proto, *args)\u001b[0m\n\u001b[1;32m    568\u001b[0m         \u001b[0;32mif\u001b[0m \u001b[0mhttp_err\u001b[0m\u001b[0;34m:\u001b[0m\u001b[0;34m\u001b[0m\u001b[0m\n\u001b[1;32m    569\u001b[0m             \u001b[0margs\u001b[0m \u001b[0;34m=\u001b[0m \u001b[0;34m(\u001b[0m\u001b[0mdict\u001b[0m\u001b[0;34m,\u001b[0m \u001b[0;34m'default'\u001b[0m\u001b[0;34m,\u001b[0m \u001b[0;34m'http_error_default'\u001b[0m\u001b[0;34m)\u001b[0m \u001b[0;34m+\u001b[0m \u001b[0morig_args\u001b[0m\u001b[0;34m\u001b[0m\u001b[0m\n\u001b[0;32m--> 570\u001b[0;31m             \u001b[0;32mreturn\u001b[0m \u001b[0mself\u001b[0m\u001b[0;34m.\u001b[0m\u001b[0m_call_chain\u001b[0m\u001b[0;34m(\u001b[0m\u001b[0;34m*\u001b[0m\u001b[0margs\u001b[0m\u001b[0;34m)\u001b[0m\u001b[0;34m\u001b[0m\u001b[0m\n\u001b[0m\u001b[1;32m    571\u001b[0m \u001b[0;34m\u001b[0m\u001b[0m\n\u001b[1;32m    572\u001b[0m \u001b[0;31m# XXX probably also want an abstract factory that knows when it makes\u001b[0m\u001b[0;34m\u001b[0m\u001b[0;34m\u001b[0m\u001b[0m\n",
      "\u001b[0;32m~/miniconda/envs/py36/lib/python3.6/urllib/request.py\u001b[0m in \u001b[0;36m_call_chain\u001b[0;34m(self, chain, kind, meth_name, *args)\u001b[0m\n\u001b[1;32m    502\u001b[0m         \u001b[0;32mfor\u001b[0m \u001b[0mhandler\u001b[0m \u001b[0;32min\u001b[0m \u001b[0mhandlers\u001b[0m\u001b[0;34m:\u001b[0m\u001b[0;34m\u001b[0m\u001b[0m\n\u001b[1;32m    503\u001b[0m             \u001b[0mfunc\u001b[0m \u001b[0;34m=\u001b[0m \u001b[0mgetattr\u001b[0m\u001b[0;34m(\u001b[0m\u001b[0mhandler\u001b[0m\u001b[0;34m,\u001b[0m \u001b[0mmeth_name\u001b[0m\u001b[0;34m)\u001b[0m\u001b[0;34m\u001b[0m\u001b[0m\n\u001b[0;32m--> 504\u001b[0;31m             \u001b[0mresult\u001b[0m \u001b[0;34m=\u001b[0m \u001b[0mfunc\u001b[0m\u001b[0;34m(\u001b[0m\u001b[0;34m*\u001b[0m\u001b[0margs\u001b[0m\u001b[0;34m)\u001b[0m\u001b[0;34m\u001b[0m\u001b[0m\n\u001b[0m\u001b[1;32m    505\u001b[0m             \u001b[0;32mif\u001b[0m \u001b[0mresult\u001b[0m \u001b[0;32mis\u001b[0m \u001b[0;32mnot\u001b[0m \u001b[0;32mNone\u001b[0m\u001b[0;34m:\u001b[0m\u001b[0;34m\u001b[0m\u001b[0m\n\u001b[1;32m    506\u001b[0m                 \u001b[0;32mreturn\u001b[0m \u001b[0mresult\u001b[0m\u001b[0;34m\u001b[0m\u001b[0m\n",
      "\u001b[0;32m~/miniconda/envs/py36/lib/python3.6/urllib/request.py\u001b[0m in \u001b[0;36mhttp_error_default\u001b[0;34m(self, req, fp, code, msg, hdrs)\u001b[0m\n\u001b[1;32m    648\u001b[0m \u001b[0;32mclass\u001b[0m \u001b[0mHTTPDefaultErrorHandler\u001b[0m\u001b[0;34m(\u001b[0m\u001b[0mBaseHandler\u001b[0m\u001b[0;34m)\u001b[0m\u001b[0;34m:\u001b[0m\u001b[0;34m\u001b[0m\u001b[0m\n\u001b[1;32m    649\u001b[0m     \u001b[0;32mdef\u001b[0m \u001b[0mhttp_error_default\u001b[0m\u001b[0;34m(\u001b[0m\u001b[0mself\u001b[0m\u001b[0;34m,\u001b[0m \u001b[0mreq\u001b[0m\u001b[0;34m,\u001b[0m \u001b[0mfp\u001b[0m\u001b[0;34m,\u001b[0m \u001b[0mcode\u001b[0m\u001b[0;34m,\u001b[0m \u001b[0mmsg\u001b[0m\u001b[0;34m,\u001b[0m \u001b[0mhdrs\u001b[0m\u001b[0;34m)\u001b[0m\u001b[0;34m:\u001b[0m\u001b[0;34m\u001b[0m\u001b[0m\n\u001b[0;32m--> 650\u001b[0;31m         \u001b[0;32mraise\u001b[0m \u001b[0mHTTPError\u001b[0m\u001b[0;34m(\u001b[0m\u001b[0mreq\u001b[0m\u001b[0;34m.\u001b[0m\u001b[0mfull_url\u001b[0m\u001b[0;34m,\u001b[0m \u001b[0mcode\u001b[0m\u001b[0;34m,\u001b[0m \u001b[0mmsg\u001b[0m\u001b[0;34m,\u001b[0m \u001b[0mhdrs\u001b[0m\u001b[0;34m,\u001b[0m \u001b[0mfp\u001b[0m\u001b[0;34m)\u001b[0m\u001b[0;34m\u001b[0m\u001b[0m\n\u001b[0m\u001b[1;32m    651\u001b[0m \u001b[0;34m\u001b[0m\u001b[0m\n\u001b[1;32m    652\u001b[0m \u001b[0;32mclass\u001b[0m \u001b[0mHTTPRedirectHandler\u001b[0m\u001b[0;34m(\u001b[0m\u001b[0mBaseHandler\u001b[0m\u001b[0;34m)\u001b[0m\u001b[0;34m:\u001b[0m\u001b[0;34m\u001b[0m\u001b[0m\n",
      "\u001b[0;31mHTTPError\u001b[0m: HTTP Error 404: Not Found"
     ]
    }
   ],
   "source": [
    "print(point_clicked)\n",
    "\n",
    "coordinate_lat = point_clicked[\"y\"]\n",
    "coordinate_lon = point_clicked[\"x\"]\n",
    "\n",
    "coordinates_xy = coordinates_trans(coordinate_lat, coordinate_lon, coverage_id)\n",
    "coordinate_x = coordinates_xy[1]\n",
    "coordinate_y = coordinates_xy[0]\n",
    "\n",
    "plot_spectra(coordinate_y, coordinate_x, coverage_id)\n",
    "\n"
   ]
  },
  {
   "cell_type": "code",
   "execution_count": null,
   "metadata": {
    "collapsed": true
   },
   "outputs": [],
   "source": []
  },
  {
   "cell_type": "code",
   "execution_count": null,
   "metadata": {
    "collapsed": true
   },
   "outputs": [],
   "source": []
  }
 ],
 "metadata": {
  "anaconda-cloud": {},
  "kernelspec": {
   "display_name": "Python 3",
   "language": "python",
   "name": "python3"
  },
  "language_info": {
   "codemirror_mode": {
    "name": "ipython",
    "version": 3
   },
   "file_extension": ".py",
   "mimetype": "text/x-python",
   "name": "python",
   "nbconvert_exporter": "python",
   "pygments_lexer": "ipython3",
   "version": "3.6.5"
  },
  "toc": {
   "colors": {
    "hover_highlight": "#DAA520",
    "navigate_num": "#000000",
    "navigate_text": "#333333",
    "running_highlight": "#FF0000",
    "selected_highlight": "#FFD700",
    "sidebar_border": "#EEEEEE",
    "wrapper_background": "#FFFFFF"
   },
   "moveMenuLeft": true,
   "nav_menu": {
    "height": "512px",
    "width": "252px"
   },
   "navigate_menu": true,
   "number_sections": true,
   "sideBar": true,
   "threshold": 4,
   "toc_cell": false,
   "toc_section_display": "block",
   "toc_window_display": false,
   "widenNotebook": false
  },
  "varInspector": {
   "cols": {
    "lenName": 16,
    "lenType": 16,
    "lenVar": 40
   },
   "kernels_config": {
    "python": {
     "delete_cmd_postfix": "",
     "delete_cmd_prefix": "del ",
     "library": "var_list.py",
     "varRefreshCmd": "print(var_dic_list())"
    },
    "r": {
     "delete_cmd_postfix": ") ",
     "delete_cmd_prefix": "rm(",
     "library": "var_list.r",
     "varRefreshCmd": "cat(var_dic_list()) "
    }
   },
   "types_to_exclude": [
    "module",
    "function",
    "builtin_function_or_method",
    "instance",
    "_Feature"
   ],
   "window_display": false
  }
 },
 "nbformat": 4,
 "nbformat_minor": 1
}
