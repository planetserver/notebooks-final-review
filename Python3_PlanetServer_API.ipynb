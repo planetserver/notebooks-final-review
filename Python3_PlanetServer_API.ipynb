{
 "cells": [
  {
   "cell_type": "markdown",
   "metadata": {},
   "source": [
    "# CRISM summary products - PlanetServer Python 2.7 API  - Ported to Python 3.6\n",
    "\n",
    "Developed for Python 2.7 - Anik Halder, Ramiro Marco Figuera; \n",
    "modified to run on python 3.6 - Angelo Pio Rossi; \n",
    "debugged - Mikhail Minin"
   ]
  },
  {
   "cell_type": "markdown",
   "metadata": {},
   "source": [
    "This runs with Python 3.6 on anaconda with the following environment, [py36.yml](py36.yml)\n",
    "\n",
    "also doable via. \n",
    "\n",
    "See also [Managing conda environments](https://conda.io/docs/user-guide/tasks/manage-environments.html)\n",
    "\n",
    "```\n",
    "name: py36\n",
    "channels:\n",
    "- conda-forge\n",
    "- defaults\n",
    "dependencies:\n",
    "- jupyter_contrib_core=0.3.3=py36_1\n",
    "- jupyter_contrib_nbextensions=0.5.0=py36_0\n",
    "- jupyter_highlight_selected_word=0.2.0=py36_0\n",
    "- jupyter_latex_envs=1.4.4=py36_0\n",
    "- jupyter_nbextensions_configurator=0.4.0=py36_0\n",
    "- libxml2=2.9.8=0\n",
    "- libxslt=1.1.32=0\n",
    "- lxml=4.2.1=py36_0\n",
    "- pyyaml=3.12=py36_1\n",
    "- yaml=0.1.7=0\n",
    "- appnope=0.1.0=py36hf537a9a_0\n",
    "- asn1crypto=0.24.0=py36_0\n",
    "- astropy=3.0.3=py36h1de35cc_2\n",
    "- atomicwrites=1.1.5=py36_0\n",
    "- attrs=18.1.0=py36_0\n",
    "- backcall=0.1.0=py36_0\n",
    "- blas=1.0=mkl\n",
    "- bleach=2.1.3=py36_0\n",
    "- ca-certificates=2018.03.07=0\n",
    "- certifi=2018.4.16=py36_0\n",
    "- cffi=1.11.5=py36h342bebf_0\n",
    "- chardet=3.0.4=py36h96c241c_1\n",
    "- cryptography=2.2.2=py36h1de35cc_0\n",
    "- cycler=0.10.0=py36hfc81398_0\n",
    "- dbus=1.13.2=h760590f_1\n",
    "- decorator=4.3.0=py36_0\n",
    "- entrypoints=0.2.3=py36hd81d71f_2\n",
    "- expat=2.2.5=hb8e80ba_0\n",
    "- freetype=2.8=h12048fb_1\n",
    "- gettext=0.19.8.1=h15daf44_3\n",
    "- glib=2.56.1=h35bc53a_0\n",
    "- html5lib=1.0.1=py36h2f9c1c0_0\n",
    "- icu=58.2=h4b95b61_1\n",
    "- idna=2.6=py36h8628d0a_1\n",
    "- intel-openmp=2018.0.3=0\n",
    "- ipykernel=4.8.2=py36_0\n",
    "- ipython=6.4.0=py36_0\n",
    "- ipython_genutils=0.2.0=py36h241746c_0\n",
    "- ipywidgets=7.2.1=py36_0\n",
    "- jedi=0.12.0=py36_1\n",
    "- jinja2=2.10=py36hd36f9c5_0\n",
    "- jpeg=9b=he5867d9_2\n",
    "- jsonschema=2.6.0=py36hb385e00_0\n",
    "- jupyter=1.0.0=py36_4\n",
    "- jupyter_client=5.2.3=py36_0\n",
    "- jupyter_console=5.2.0=py36hccf5b1c_1\n",
    "- jupyter_core=4.4.0=py36h79cf704_0\n",
    "- jupyterlab=0.32.1=py36_0\n",
    "- jupyterlab_launcher=0.10.5=py36_0\n",
    "- kiwisolver=1.0.1=py36h792292d_0\n",
    "- libcxx=4.0.1=h579ed51_0\n",
    "- libcxxabi=4.0.1=hebd6815_0\n",
    "- libedit=3.1.20170329=hb402a30_2\n",
    "- libffi=3.2.1=h475c297_4\n",
    "- libgfortran=3.0.1=h93005f0_2\n",
    "- libiconv=1.15=hdd342a3_7\n",
    "- libpng=1.6.34=he12f830_0\n",
    "- libsodium=1.0.16=h3efe00b_0\n",
    "- markupsafe=1.0=py36h3a1e703_1\n",
    "- matplotlib=2.2.2=py36ha7267d0_0\n",
    "- mistune=0.8.3=py36h1de35cc_1\n",
    "- mkl=2018.0.3=1\n",
    "- more-itertools=4.2.0=py36_0\n",
    "- nbconvert=5.3.1=py36h810822e_0\n",
    "- nbformat=4.4.0=py36h827af21_0\n",
    "- ncurses=6.1=h0a44026_0\n",
    "- notebook=5.5.0=py36_0\n",
    "- numpy=1.14.3=py36he6379a5_2\n",
    "- numpy-base=1.14.3=py36ha9ae307_2\n",
    "- openssl=1.0.2o=h26aff7b_0\n",
    "- pandoc=1.19.2.1=ha5e8f32_1\n",
    "- pandocfilters=1.4.2=py36h3b0b094_1\n",
    "- parso=0.2.0=py36_0\n",
    "- pcre=8.42=h378b8a2_0\n",
    "- pexpect=4.5.0=py36_0\n",
    "- pickleshare=0.7.4=py36hf512f8e_0\n",
    "- pip=10.0.1=py36_0\n",
    "- pluggy=0.6.0=py36hb1d0581_0\n",
    "- prompt_toolkit=1.0.15=py36haeda067_0\n",
    "- psutil=5.4.5=py36h1de35cc_0\n",
    "- ptyprocess=0.5.2=py36he6521c3_0\n",
    "- py=1.5.3=py36_0\n",
    "- pycparser=2.18=py36h724b2fc_1\n",
    "- pygments=2.2.0=py36h240cd3f_0\n",
    "- pyopenssl=18.0.0=py36_0\n",
    "- pyparsing=2.2.0=py36hb281f35_0\n",
    "- pyproj=1.9.5.1=py36_0\n",
    "- pyqt=5.9.2=py36h11d3b92_0\n",
    "- pysocks=1.6.8=py36_0\n",
    "- pytest=3.6.0=py36_1\n",
    "- pytest-arraydiff=0.2=py36_0\n",
    "- pytest-astropy=0.4.0=py36_0\n",
    "- pytest-doctestplus=0.1.3=py36_0\n",
    "- pytest-openfiles=0.3.0=py36_0\n",
    "- pytest-remotedata=0.3.0=py36_0\n",
    "- python=3.6.5=hc167b69_1\n",
    "- python-dateutil=2.7.3=py36_0\n",
    "- python.app=2=py36_8\n",
    "- pytz=2018.4=py36_0\n",
    "- pyzmq=17.0.0=py36h1de35cc_1\n",
    "- qt=5.9.5=h02808f3_0\n",
    "- qtconsole=4.3.1=py36hd96c0ff_0\n",
    "- readline=7.0=hc1231fa_4\n",
    "- requests=2.18.4=py36h4516966_1\n",
    "- send2trash=1.5.0=py36_0\n",
    "- setuptools=39.1.0=py36_0\n",
    "- simplegeneric=0.8.1=py36_2\n",
    "- sip=4.19.8=py36h0a44026_0\n",
    "- six=1.11.0=py36h0e22d5e_1\n",
    "- sqlite=3.23.1=hf1716c9_0\n",
    "- terminado=0.8.1=py36_1\n",
    "- testpath=0.3.1=py36h625a49b_0\n",
    "- tk=8.6.7=h35a86e2_3\n",
    "- tornado=5.0.2=py36_0\n",
    "- traitlets=4.3.2=py36h65bd3ce_0\n",
    "- urllib3=1.22=py36h68b9469_0\n",
    "- wcwidth=0.1.7=py36h8c6ec74_0\n",
    "- webencodings=0.5.1=py36h3b9701d_1\n",
    "- wheel=0.31.1=py36_0\n",
    "- widgetsnbextension=3.2.1=py36_0\n",
    "- xz=5.2.4=h1de35cc_4\n",
    "- zeromq=4.2.5=h378b8a2_0\n",
    "- zlib=1.2.11=hf3cbc9b_2\n",
    "- pip:\n",
    "  - ipython-genutils==0.2.0\n",
    "  - jupyter-client==5.2.3\n",
    "  - jupyter-console==5.2.0\n",
    "  - jupyter-contrib-core==0.3.3\n",
    "  - jupyter-contrib-nbextensions==0.5.0\n",
    "  - jupyter-core==4.4.0\n",
    "  - jupyter-highlight-selected-word==0.2.0\n",
    "  - jupyter-latex-envs==1.4.4\n",
    "  - jupyter-nbextensions-configurator==0.4.0\n",
    "  - jupyterlab-launcher==0.10.5\n",
    "  - prompt-toolkit==1.0.15\n",
    "\n",
    "```"
   ]
  },
  {
   "cell_type": "code",
   "execution_count": 1,
   "metadata": {
    "collapsed": false
   },
   "outputs": [
    {
     "name": "stdout",
     "output_type": "stream",
     "text": [
      "3.5.4 |Anaconda 4.2.0 (64-bit)| (default, Nov 20 2017, 18:44:38) \n",
      "[GCC 7.2.0]\n"
     ]
    }
   ],
   "source": [
    "# Checking the version of Python\n",
    "\n",
    "import sys\n",
    "print(sys.version)"
   ]
  },
  {
   "cell_type": "code",
   "execution_count": 2,
   "metadata": {
    "collapsed": false
   },
   "outputs": [
    {
     "name": "stdout",
     "output_type": "stream",
     "text": [
      "Warning: Cannot change to a different GUI toolkit: notebook. Using tk instead.\n"
     ]
    }
   ],
   "source": [
    "import numpy as np\n",
    "\n",
    "import re\n",
    "\n",
    "import math\n",
    "\n",
    "from astropy.io import fits\n",
    "\n",
    "# import urllib \n",
    "\n",
    "# from requests import urllib\n",
    "\n",
    "import requests\n",
    "\n",
    "import urllib.request\n",
    "\n",
    "import urllib.parse\n",
    "\n",
    "#import httplib\n",
    "\n",
    "import xml.etree.ElementTree as ET\n",
    "\n",
    "#%matplotlib inline\n",
    "%matplotlib tk\n",
    "import matplotlib.pyplot as plt\n",
    "\n",
    "# reading the data from the bands_table.fits file\n",
    "\n",
    "hdulist = fits.open(\"bands_table.fits\")\n",
    "tabledata = hdulist[1].data # assuming the first extension is a table\n",
    "\n",
    "cols = hdulist[1].columns\n",
    "\n",
    "band_name = tabledata[\"band_name\"]\n",
    "WV = tabledata[\"wavelength\"]\n",
    "\n",
    "%matplotlib notebook\n",
    "#from ipywidgets import interact\n",
    "\n",
    "from pyproj import Proj"
   ]
  },
  {
   "cell_type": "markdown",
   "metadata": {},
   "source": [
    "## Formulation of function to find bandname and wavelength"
   ]
  },
  {
   "cell_type": "code",
   "execution_count": 3,
   "metadata": {
    "collapsed": false
   },
   "outputs": [
    {
     "name": "stdout",
     "output_type": "stream",
     "text": [
      "Corresponding wavelength and bandname of R2260 : WV = 2.25827 ; Band name 192\n"
     ]
    }
   ],
   "source": [
    "def find_WV_bandname(name, nearest=True):\n",
    "    # extract wavelength from formulation name e.g. R2950 --> 2950 nanometer --> 2.95 micrometer\n",
    "    # nearest=True means that the nearest wavelength in the bands_table will be returned (default value)\n",
    "    # nearest=False means that the exact wavelength as passed in 'name' shall be returned\n",
    "    \n",
    "    l = float(re.findall(\"\\d+\", name)[0])/1000 # converting into micrometer\n",
    "    \n",
    "    # nearest wavelength and the corresponding band name index of the given color\n",
    "    idx = (np.abs(WV-l)).argmin()\n",
    "    \n",
    "    # return the corresponding values\n",
    "    if (nearest==True):\n",
    "        return WV[idx], band_name[idx]\n",
    "    elif (nearest==False):\n",
    "        return l, band_name[idx]\n",
    "\n",
    "\n",
    "color = \"R2260\"\n",
    "\n",
    "results = find_WV_bandname(color)\n",
    "\n",
    "print(\"Corresponding wavelength and bandname of\", color ,\": WV =\", results[0],\"; Band name\", results[1])"
   ]
  },
  {
   "cell_type": "markdown",
   "metadata": {},
   "source": [
    "## Formulation of family $f1$ - $BDXXXX$\n",
    "\n",
    "### $$1-\\left(\\frac{R_c}{a* R_s+b* R_l}\\right)$$\n",
    "\n",
    "Associated Product # : 13, 19, 20, 21, 23, 27, 28, 29, 31, 33, 34, 36, 37, 39, 44, 46, 47, 48, 57\n",
    "##### 19 summary products"
   ]
  },
  {
   "cell_type": "code",
   "execution_count": 4,
   "metadata": {
    "collapsed": true
   },
   "outputs": [],
   "source": [
    "# family f1 is of the formuation : 1-(Rc/(a*Rs+b*Rl)\n",
    "\n",
    "def f1(lst = []):\n",
    "    # lst has the arguments: Rc, Rs, Rl\n",
    "    WV_Rc , bn_Rc = find_WV_bandname(lst[0]) # Rc\n",
    "    WV_Rs , bn_Rs  = find_WV_bandname(lst[1]) # Rs\n",
    "    WV_Rl , bn_Rl  = find_WV_bandname(lst[2]) # Rl\n",
    "\n",
    "    #print(\"Band names : {0} = {1}, {2} = {3}, {4} = {5}\".format(lst[0], bn_Rc, lst[1], bn_Rs, lst[2], bn_Rl))    \n",
    "        \n",
    "    b = (WV_Rc - WV_Rs) / (WV_Rl - WV_Rs)\n",
    "    a = 1-b\n",
    "    \n",
    "    # WCPS query as given by the computed product\n",
    "    F = \"(1 - (data.band_\"+str(bn_Rc)+\" / ((\"+str(a)+\") * data.band_\"+str(bn_Rs)+\" + (\"+str(b)+\") * data.band_\"+str(bn_Rl)+\")))\"\n",
    "           \n",
    "    # stretched value of F\n",
    "    FS = \"(float)((int)( 255 / ( max(\"+F+\") - min(\"+F+\") )) * ( (\"+F+\") - min(\"+F+\") ))\"\n",
    "        \n",
    "    return [FS, F]\n",
    "\n",
    "#print f1([\"R1320\", \"R1080\", \"R1750\"])[1]"
   ]
  },
  {
   "cell_type": "markdown",
   "metadata": {},
   "source": [
    "\n",
    "### Formulation of family $f1$ - $BDXXXX$ : $$1-\\left(\\frac{R_c}{a* R_s+b* R_l}\\right)$$"
   ]
  },
  {
   "cell_type": "code",
   "execution_count": 5,
   "metadata": {
    "collapsed": true
   },
   "outputs": [],
   "source": [
    "# family f1 is of the formuation : 1-(Rc/(a*Rs+b*Rl)\n",
    "\n",
    "def f1(lst = []):\n",
    "    # lst has the arguments: Rc, Rs, Rl\n",
    "    WV_Rc , bn_Rc = find_WV_bandname(lst[0]) # Rc\n",
    "    WV_Rs , bn_Rs  = find_WV_bandname(lst[1]) # Rs\n",
    "    WV_Rl , bn_Rl  = find_WV_bandname(lst[2]) # Rl\n",
    "\n",
    "    b = (WV_Rc - WV_Rs) / (WV_Rl - WV_Rs)\n",
    "    a = 1-b\n",
    "    \n",
    "    # WCPS query as given by the computed product\n",
    "    F = \"(1 - (data.band_\"+str(bn_Rc)+\" / ((\"+str(a)+\") * data.band_\"+str(bn_Rs)+ \\\n",
    "        \" + (\"+str(b)+\") * data.band_\"+str(bn_Rl)+\")))\"\n",
    "           \n",
    "    # stretched value of F\n",
    "    FS = \"(float)((int)( 255 / ( max(\"+F+\") - min(\"+F+\") )) * ( (\"+F+\") - min(\"+F+\") ))\"\n",
    "        \n",
    "    return [FS, F]"
   ]
  },
  {
   "cell_type": "markdown",
   "metadata": {},
   "source": [
    "## Formulation of family  $f2$ - $min$\n",
    "\n",
    "### $$min \\left[\\left(1-\\frac{R_{1c}}{a* R_{1s}+b* R_{1l}}\\right),\\left( 1-\\frac{R_{2c}}{a*R_{2s}+b*R_{2l}}\\right)\\right]$$"
   ]
  },
  {
   "cell_type": "code",
   "execution_count": 6,
   "metadata": {
    "collapsed": true
   },
   "outputs": [],
   "source": [
    "# family f2 is of the formuation : MIN [ 1-(R1c/(a*R1s+b*R1l) , 1-(R2c/(a*R2s+b*R2l) ]\n",
    "\n",
    "def f2(lst = []):\n",
    "    # lst has the arguments: Rc1, Rs1, Rl1 , Rc2, Rs2, Rl2\n",
    "    \n",
    "    FS1 = f1(lst[0:3])[0]\n",
    "    FS2 = f1(lst[3:])[0]\n",
    "    \n",
    "    FS = \"( \"+FS1+\" < \"+FS2+\" ) * \"+FS1+\" + ( \"+FS1+\" > \"+FS2+\" ) * \"+FS2\n",
    "    \n",
    "    return [FS]\n",
    "  \n",
    "#print f2([\"R2165\", \"R2120\", \"R2350\", \"R2210\", \"R2120\", \"R2350\"])[0]"
   ]
  },
  {
   "cell_type": "markdown",
   "metadata": {},
   "source": [
    "## Formulation of family $f3$ \n",
    "\n",
    "### $$0.5* \\left(1-\\frac{R_{1c}}{a* R_{1s}+b*R_{1l}}\\right) + 0.5 *\\left(1-\\frac{R_{2c}}{a* R_{2s}+b* R_{2l}}\\right)$$\n",
    "\n",
    "Associated Product # : 24 - $BD1900_2$\n",
    "\n",
    "##### 1 summary product"
   ]
  },
  {
   "cell_type": "code",
   "execution_count": 7,
   "metadata": {
    "collapsed": true
   },
   "outputs": [],
   "source": [
    "# family f3 is of the formuation : 0.5 * (1-(R1c/(a*R1s+b*R1l)) + 0.5*( 1-(R2c/(a*R2s+b*R2l))\n",
    "\n",
    "def f3(lst = []):\n",
    "    # lst has the arguments: R1c, R1s, R1l, R2c, R2s, R2l\n",
    "    \n",
    "    F1 = f1(lst[0:3])[1] # for components R1c, R1s, R1l\n",
    "    F2 = f1(lst[3:])[1] # for components R2c, R2s, R2l\n",
    "    \n",
    "    # WCPS query as given by the computed product\n",
    "    F = \"(0.5 * (\"+F1+\")\"+\" + 0.5 * (\"+F2+\"))\" \n",
    "    \n",
    "    # stretched value of F\n",
    "    FS = \"(float)((int)( 255 / ( max(\"+F+\") - min(\"+F+\") )) * ( (\"+F+\") - min(\"+F+\") ))\"\n",
    "    \n",
    "    return [FS, F]\n",
    "\n",
    "#print f3([\"R1930\", \"R1850\", \"R2067\", \"R1985\", \"R1850\", \"R2067\"])[1]"
   ]
  },
  {
   "cell_type": "markdown",
   "metadata": {},
   "source": [
    "## Formulation of family $f4$ - $RXXXX$\n",
    "\n",
    "### $$R_1$$\n",
    "\n",
    "Associated Product # : 12, 54, 55, 56, 60\n",
    "\n",
    "##### 5 summary products"
   ]
  },
  {
   "cell_type": "code",
   "execution_count": 8,
   "metadata": {
    "collapsed": true
   },
   "outputs": [],
   "source": [
    "# family f4 is of the formuation : R1\n",
    "\n",
    "def f4(lst = []):\n",
    "    # lst has the arguments: R1\n",
    "    \n",
    "    WV_R1 , bn_R1 = find_WV_bandname(lst[0]) # R1\n",
    "    \n",
    "    # WCPS query as given by the computed product\n",
    "    F = \"(data.band_\"+str(bn_R1)+\")\"\n",
    "    \n",
    "    # stretched value of F\n",
    "    FS = \"(float)((int)( 255 / ( max(\"+F+\") - min(\"+F+\") )) * ( (\"+F+\") - min(\"+F+\") ))\"\n",
    "        \n",
    "    return [FS, F]\n",
    "\n",
    "#print f4([\"R1330\"])[1]"
   ]
  },
  {
   "cell_type": "markdown",
   "metadata": {},
   "source": [
    "## Formulation of family $f5$\n",
    "\n",
    "### $$\\frac{R_1}{R_2}$$\n",
    "\n",
    "Associated Product # : 58 - $IRR2$ ; 59 - $IRR3$\n",
    "\n",
    "##### 2 summary products"
   ]
  },
  {
   "cell_type": "code",
   "execution_count": 9,
   "metadata": {
    "collapsed": true
   },
   "outputs": [],
   "source": [
    "# family f5 is of the formuation : R1/R2\n",
    "\n",
    "def f5(lst = []):\n",
    "    # lst has the arguments: R1, R2\n",
    "    \n",
    "    WV_R1 , bn_R1 = find_WV_bandname(lst[0]) # R1\n",
    "    WV_R2 , bn_R2 = find_WV_bandname(lst[1]) # R2\n",
    "    \n",
    "    # WCPS query as given by the computed product\n",
    "    F = \"(data.band_\"+str(bn_R1)+\" / data.band_\"+str(bn_R2)+\")\"\n",
    "    \n",
    "    # stretched value of F\n",
    "    FS = \"(float)((int)( 255 / ( max(\"+F+\") - min(\"+F+\") )) * ( (\"+F+\") - min(\"+F+\") ))\"\n",
    "    \n",
    "    return [FS, F]\n",
    "\n",
    "#print f5([\"R2530\", \"R2210\"])[1]"
   ]
  },
  {
   "cell_type": "markdown",
   "metadata": {},
   "source": [
    "## Formulation of family $f6$\n",
    "\n",
    "### $$1-\\left(\\frac{R_1}{R_2 * \\frac{R_3}{R_4}}\\right)$$\n",
    "\n",
    "Associated Product # : 45 - $BD3000$\n",
    "\n",
    "##### 1 summary product"
   ]
  },
  {
   "cell_type": "code",
   "execution_count": 10,
   "metadata": {
    "collapsed": true
   },
   "outputs": [],
   "source": [
    "# family f6 is of the formuation : 1-(R1/(R2*(R3/R4)))\n",
    "\n",
    "def f6(lst = []):\n",
    "    # lst has the arguments: R1, R2, R3, R4\n",
    "    \n",
    "    WV_R1 , bn_R1 = find_WV_bandname(lst[0]) # R1\n",
    "    WV_R2 , bn_R2  = find_WV_bandname(lst[1]) # R2\n",
    "    WV_R3 , bn_R3  = find_WV_bandname(lst[2]) # R3\n",
    "    WV_R4 , bn_R4  = find_WV_bandname(lst[3]) # R4\n",
    "\n",
    "    # WCPS query as given by the computed product\n",
    "    F = \"(1 - (data.band_\"+str(bn_R1)+\" / (data.band_\"+str(bn_R2)+\" * (data.band_\"+str(bn_R3)+\" / data.band_\"+str(bn_R4)+\"))))\"\n",
    "    \n",
    "    # stretched value of F\n",
    "    FS = \"(float)((int)( 255 / ( max(\"+F+\") - min(\"+F+\") )) * ( (\"+F+\") - min(\"+F+\") ))\"\n",
    "    \n",
    "    return [FS, F]\n",
    "\n",
    "#print f6([\"R3000\", \"R2530\", \"R2530\", \"R2210\"])[1]"
   ]
  },
  {
   "cell_type": "markdown",
   "metadata": {},
   "source": [
    "## Formulation of family $f7$\n",
    "\n",
    "### $$1-\\left(\\frac{a*R_s+b*R_l}{R_c}\\right)$$\n",
    "\n",
    "Associated Product # : 40 - $SINDEX2$ ; 49 - $CINDEX2$\n",
    "\n",
    "##### 2 summary products"
   ]
  },
  {
   "cell_type": "code",
   "execution_count": 11,
   "metadata": {
    "collapsed": true
   },
   "outputs": [],
   "source": [
    "# family f7 is of the formuation : 1-((a*Rs+b*Rl)/Rc)\n",
    "\n",
    "def f7(lst = []):\n",
    "    # lst has the arguments: Rs, Rl, Rc\n",
    "\n",
    "    WV_Rs , bn_Rs  = find_WV_bandname(lst[0]) # Rs\n",
    "    WV_Rl , bn_Rl  = find_WV_bandname(lst[1]) # Rl\n",
    "    WV_Rc , bn_Rc = find_WV_bandname(lst[2]) # Rc\n",
    "\n",
    "    #print(\"Band names : {0} = {1}, {2} = {3}, {4} = {5}\".format(lst[2], bn_Rc, lst[0], bn_Rs, lst[1], bn_Rl))    \n",
    "        \n",
    "    b = (WV_Rc - WV_Rs) / (WV_Rl - WV_Rs)\n",
    "    a = 1-b\n",
    "    \n",
    "    # WCPS query as given by the computed product\n",
    "    F = \"(1 - ( ((\"+str(a)+\") * data.band_\"+str(bn_Rs)+\" + (\"+str(b)+\") * data.band_\"+str(bn_Rl)+\") / data.band_\"+str(bn_Rc)+\"))\"\n",
    "        \n",
    "    # stretched value of F\n",
    "    FS = \"(float)((int)( 255 / ( max(\"+F+\") - min(\"+F+\") )) * ( (\"+F+\") - min(\"+F+\") ))\"\n",
    "    \n",
    "    return [FS, F]\n",
    "\n",
    "#print f7([\"R2120\", \"R2400\", \"R2290\"])[1]"
   ]
  },
  {
   "cell_type": "markdown",
   "metadata": {},
   "source": [
    "## Formulation of family $f8$ \n",
    "\n",
    "### $$1-\\left(\\frac{1-BD_1}{1-BD_2}\\right)$$\n",
    "\n",
    "Associated Product # : 22 - $ICER1_2$\n",
    "\n",
    "##### 1 summary product"
   ]
  },
  {
   "cell_type": "code",
   "execution_count": 12,
   "metadata": {
    "collapsed": true
   },
   "outputs": [],
   "source": [
    "# family f8 is of the formuation : 1-((1-BD1)/(1-BD2)) i.e. composed of f1\n",
    "\n",
    "def f8(lst = []):\n",
    "    # lst has the arguments: dictionary, BD1, BD2\n",
    "    \n",
    "    dictionary = lst[0] \n",
    "    F1 = dictionary[lst[1]][0](dictionary[lst[1]][1])[1]\n",
    "    F2 = dictionary[lst[2]][0](dictionary[lst[2]][1])[1]\n",
    "    \n",
    "    # WCPS query as given by the computed product\n",
    "    F = \"(1 - ((1 - \"+F1+\") / (1 - \"+F2+\")))\"\n",
    "    \n",
    "    # stretched value of F\n",
    "    FS = \"(float)((int)( 255 / ( max(\"+F+\") - min(\"+F+\") )) * ( (\"+F+\") - min(\"+F+\") ))\"\n",
    "    \n",
    "    return [FS, F]\n",
    "\n",
    "# as dictionary hasn't been defined so far - e.g. for f8 can be seen after the definition of the dictionary"
   ]
  },
  {
   "cell_type": "markdown",
   "metadata": {},
   "source": [
    "## Formulation of family $f9$ \n",
    "\n",
    "### $$\\left( \\frac{R_1-R_2}{W_2-W_1} \\right)$$\n",
    "\n",
    "#### Note: This family computes slope and intercept\n",
    "\n",
    "Associated Product # : 18 - $ISLOPE1$\n",
    "\n",
    "##### 1 summary product"
   ]
  },
  {
   "cell_type": "code",
   "execution_count": 13,
   "metadata": {
    "collapsed": true
   },
   "outputs": [],
   "source": [
    "# family f9 is of the formuation : ((R1-R2)/(W2-W1))\n",
    "\n",
    "def f9(lst = []):\n",
    "    # lst has the arguments: R1, R2\n",
    "    \n",
    "    WV_W1, bn_R1 = find_WV_bandname(lst[0], nearest=False) # W1 and R1\n",
    "    WV_W2, bn_R2 = find_WV_bandname(lst[1], nearest=False) # W2 and R2\n",
    "    \n",
    "    # WCPS query as given by the computed product\n",
    "    F = \"((data.band_\"+str(bn_R1)+\" - data.band_\"+str(bn_R2)+\") / (\"+str(WV_W2)+\" - \"+str(WV_W1)+\"))\"\n",
    "    \n",
    "    # calculating the slope and intercept for f12 which changes a bit: R2-R1/W2-W1\n",
    "    slope = \"((data.band_\"+str(bn_R2)+\" - data.band_\"+str(bn_R1)+\") / (\"+str(WV_W2)+\" - \"+str(WV_W1)+\"))\"\n",
    "    \n",
    "    intercept = \"(data.band_\"+str(bn_R2)+\" - \"+slope+\" * \"+str(WV_W2)+\")\"    \n",
    "    \n",
    "    # stretched value of F\n",
    "    FS = \"(float)((int)( 255 / ( max(\"+F+\") - min(\"+F+\") )) * ( (\"+F+\") - min(\"+F+\") ))\" \n",
    "    \n",
    "    return [FS, slope, intercept]    \n",
    "\n",
    "#print f9([\"R1815\", \"R2530\"])[1]"
   ]
  },
  {
   "cell_type": "markdown",
   "metadata": {},
   "source": [
    "## Formulation of function to find RC"
   ]
  },
  {
   "cell_type": "code",
   "execution_count": 14,
   "metadata": {
    "collapsed": true
   },
   "outputs": [],
   "source": [
    "def RC(lst = []):\n",
    "    # lst has the arguments: RC, [R1, R2] with R1 and R2 the anchors\n",
    "    \n",
    "    WV_RC = find_WV_bandname(lst[0], nearest=False)[0]\n",
    "    \n",
    "    slope, intercept = f9(lst[1])[1:]\n",
    "    \n",
    "    F = \"(\"+slope+\" * \"+str(WV_RC)+\" + \"+intercept+\")\"\n",
    "\n",
    "    return F\n",
    "\n",
    "#print RC([\"RB2600\",[\"R2456\", \"R2530\"]])"
   ]
  },
  {
   "cell_type": "markdown",
   "metadata": {},
   "source": [
    "## Formulation of family $f10$ \n",
    "\n",
    "### $$RBXXXX =\\frac{RCXXXX - RXXXX }{RCXXXX}$$\n",
    "\n",
    "Note: This family is the function that computes RB \n",
    "\n",
    "Associated Product # : 41 - $ICER2_2$\n",
    "\n",
    "##### 1 summary product"
   ]
  },
  {
   "cell_type": "code",
   "execution_count": 15,
   "metadata": {
    "collapsed": true
   },
   "outputs": [],
   "source": [
    "# family f10 is of the formuation : RB1 = (RC1 - R1) / R1\n",
    "\n",
    "def f10(lst = []):\n",
    "    # lst has the arguments: RB, [R1, R2] where R1, R2 are the anchors\n",
    "    \n",
    "    # note that for finding bandname of a product, the initials do not matter i.e. whether it is RBXXXX,\n",
    "    # RCXXXX or RXXXX - all have the same bandnames and here the parameter RB does not imply the function\n",
    "    # but rather the bandname associated with it\n",
    "        \n",
    "    F_RC = RC(lst)\n",
    "    F_R = f4(lst)[1] # Using formulation of family f4 : R1\n",
    "    \n",
    "    # WCPS query as given by the computed product\n",
    "    F = \"((\"+F_RC+\" - \"+F_R+\")/ \"+F_RC+\")\"\n",
    "    \n",
    "    # stretched value of F\n",
    "    FS = \"(float)((int)( 255 / ( max(\"+F+\") - min(\"+F+\") )) * ( (\"+F+\") - min(\"+F+\") ))\"\n",
    "    \n",
    "    return [FS, F]\n",
    "\n",
    "#print f10([\"RB1210\",[\"R1750\",\"R2400\"]])[1]"
   ]
  },
  {
   "cell_type": "markdown",
   "metadata": {},
   "source": [
    "### $f10_{prima}$ is a different formulation of  $f10$ to include the absolute parameter in the product OLINDEX3"
   ]
  },
  {
   "cell_type": "code",
   "execution_count": 16,
   "metadata": {
    "collapsed": true
   },
   "outputs": [],
   "source": [
    "# family f10_prima is a special formulation of f10 to include the absolute parameter to compute OLINDEX3\n",
    "\n",
    "# rest is the same as f10 : RB1 = (RC1 - R1) / R1\n",
    "\n",
    "def f10_prima(lst = []):\n",
    "    # lst has the arguments: RB, [R1, R2] where R1, R2 are the anchors\n",
    "    \n",
    "    # note that for finding bandname of a product, the initials do not matter i.e. whether it is RBXXXX,\n",
    "    # RCXXXX or RXXXX - all have the same bandnames and here the parameter RB does not imply the function\n",
    "    # but rather the bandname associated with it\n",
    "        \n",
    "    F_RC = RC(lst)\n",
    "    F_R = f4(lst)[1] # Using formulation of family f4 : R1\n",
    "    \n",
    "    # WCPS query as given by the computed product !!!\n",
    "    #F = \"(((\"+F_RC+\" - \"+F_R+\")/ (abs\"+F_RC+\"))\"\n",
    "    F = \"((\"+F_RC+\" - \"+F_R+\")/ (abs\"+F_RC+\"))\"\n",
    "    \n",
    "    # stretched value of F\n",
    "    FS = \"(float)((int)( 255 / ( max(\"+F+\") - min(\"+F+\") )) * ( (\"+F+\") - min(\"+F+\") ))\"\n",
    "    \n",
    "    return [FS, F]\n",
    "\n",
    "#print f10([\"RB1210\",[\"R1750\",\"R2400\"]])[1]"
   ]
  },
  {
   "cell_type": "markdown",
   "metadata": {},
   "source": [
    "## Formulation of family $f11$\n",
    "\n",
    "### $$1-\\left( \\frac{\\frac{R_a}{RC_a} +  \\frac{R_b}{RC_b} +\\frac{R_c}{RC_c}  + ...}{\\frac{R_x}{RC_x} +  \\frac{R_y}{RC_y} +\\frac{R_z}{RC_z}  + ...}\\right)$$\n",
    "\n",
    "Associated Product # : 25 - $BD1900r2$ ; 32 - $D2200$ ; 38 - $D2300$\n",
    "\n",
    "##### 3 summary products"
   ]
  },
  {
   "cell_type": "code",
   "execution_count": 17,
   "metadata": {
    "collapsed": true
   },
   "outputs": [],
   "source": [
    "# family f11 is of the formuation : 1- (Ra/a + Rb/RCb + Rc/RCc  + ... )/(Ra/a + Rb/RCb + Rc/RCc  + ... )\n",
    "\n",
    "def f11(lst = []):\n",
    "    # lst has the arguments: [Ra, Rb, Rc, ...], [Rx, Ry, Rz, ...], [R1, R2] where R1, R2 are the anchors for RC\n",
    "    # and a,b,c... indicate the parameter under consideration in numerator\n",
    "    # and x,y,z... indicate the parameter under consideration in denominator\n",
    "    \n",
    "    # computing the WCPS query as given by the computed product\n",
    "    \n",
    "    # numerator\n",
    "    F_n = \"\"\n",
    "    for i in range(len(lst[0])):\n",
    "        F_R = f4([lst[0][i]])[1]\n",
    "        F_RC = RC([lst[0][i],lst[-1]])\n",
    "        \n",
    "        if i == 0:\n",
    "            F_n = F_n+F_R+\" / \"+F_RC\n",
    "        else:\n",
    "            F_n = F_n+\" + \"+F_R+\" / \"+F_RC\n",
    "            \n",
    "    # denominator\n",
    "    F_d = \"\"\n",
    "    for i in range(len(lst[0])):\n",
    "        F_R = f4([lst[1][i]])[1]\n",
    "        F_RC = RC([lst[1][i],lst[-1]])\n",
    "        \n",
    "        if i == 0:\n",
    "            F_d = F_d+F_R+\" / \"+F_RC\n",
    "        else:\n",
    "            F_d = F_d+\" + \"+F_R+\" / \"+F_RC\n",
    "            \n",
    "    F = \"(1-(\"+F_n+\" / \"+F_d+\"))\"\n",
    "    \n",
    "    # stretched value of F\n",
    "    FS = \"(float)((int)( 255 / ( max(\"+F+\") - min(\"+F+\") )) * ( (\"+F+\") - min(\"+F+\") ))\"\n",
    "    \n",
    "    return [FS, F]\n",
    "    \n",
    "#print f11([[\"R2210\",\"RC2230\"],[\"R2165\",\"R2165\"],[\"R1815\",\"R2430\"]])[1]"
   ]
  },
  {
   "cell_type": "markdown",
   "metadata": {},
   "source": [
    "## Formulation of family $f12$ !!! Works only for first two parameters!!!\n",
    "\n",
    "### $$RB_a*a + RB_b*b + RB_c*c  + ... $$\n",
    "\n",
    "Associated Product # : 15 - $ LCPINDEX2$ ; 16 - $HCPINDEX2$\n",
    "\n",
    "##### 3 summary products"
   ]
  },
  {
   "cell_type": "code",
   "execution_count": 18,
   "metadata": {
    "collapsed": true
   },
   "outputs": [],
   "source": [
    "# family f12 is of the formuation : RBa*a + RBb*b + RBc*c  + ... \n",
    "\n",
    "def f12(lst = []):\n",
    "    # lst has the arguments: [RBa, a], [RBb,b], [RBc,c]..., [R1, R2] where R1, R2 are the anchors for RC\n",
    "    # and a,b,c.. indicate the parameter under consideration\n",
    "    \n",
    "    # computing the WCPS query as given by the computed product\n",
    "    F = \"\"\n",
    "    for i in range(len(lst)-1):\n",
    "        F_RB = f10([lst[i][0],lst[-1]])[1]\n",
    "        if i == 0:\n",
    "            F = F+F_RB+\" * \"+str(lst[i][1])\n",
    "        else:\n",
    "            F = F+\" + \"+F_RB+\" * \"+str(lst[i][1])\n",
    "            \n",
    "    F = \"(\"+F+\")\"\n",
    "    #print F\n",
    "        \n",
    "    # stretched value of F\n",
    "    FS = \"(float)((int)( 255 / ( max(\"+F+\") - min(\"+F+\") )) * ( (\"+F+\") - min(\"+F+\") ))\"\n",
    "    \n",
    "    return [FS, F]\n",
    "    \n",
    "#print f12([[\"RB2120\",0.10], [\"RB2140\",0.10], [\"RB2230\",0.15], [\"R1690\",\"R2530\"]])[1]"
   ]
  },
  {
   "cell_type": "markdown",
   "metadata": {},
   "source": [
    "## Formulation of family $f13$ !!!Special one for OLINDEX3!!!\n",
    "\n",
    "### $$RB_a*a + RB_b*b + RB_c*c  + ... $$\n",
    "\n",
    "Associated Product # : 14 - $OLINDEX3$ \n",
    "\n",
    "##### 1 summary products"
   ]
  },
  {
   "cell_type": "code",
   "execution_count": 19,
   "metadata": {
    "collapsed": true
   },
   "outputs": [],
   "source": [
    "# family f13 is of the formuation : RBa*a + RBb*b + RBc*c  + ... \n",
    "\n",
    "def f13(lst = []):\n",
    "    # lst has the arguments: [RBa, a], [RBb,b], [RBc,c]..., [R1, R2] where R1, R2 are the anchors for RC\n",
    "    # and a,b,c.. indicate the parameter under consideration\n",
    "    \n",
    "    # computing the WCPS query as given by the computed product (using f10_prima)\n",
    "    F = \"\"\n",
    "    for i in range(len(lst)-1):\n",
    "        F_RB = f10_prima([lst[i][0],lst[-1]])[1]\n",
    "        if i == 0: # !!!\n",
    "            #F = F+F_RB+\" * \"+str(lst[i][1]) +\" )\"\n",
    "            F = F+F_RB+\" * \"+str(lst[i][1])\n",
    "        else:\n",
    "            #F = F+\" + \"+F_RB+\" * \"+str(lst[i][1])+\" )\"\n",
    "            F = F+\" + \"+F_RB+\" * \"+str(lst[i][1])\n",
    "            \n",
    "    #F = F\n",
    "    F = \"(\"+F+\")\"\n",
    "        \n",
    "    # stretched value of F\n",
    "    FS = \"(float)((int)( 255 / ( max(\"+F+\") - min(\"+F+\") )) * ( (\"+F+\") - min(\"+F+\") ))\"\n",
    "    \n",
    "    return [FS, F]\n",
    "    \n",
    "#print f12([[\"RB2120\",0.10], [\"RB2140\",0.10], [\"RB2230\",0.15], [\"R1690\",\"R2530\"]])[1]"
   ]
  },
  {
   "cell_type": "markdown",
   "metadata": {},
   "source": [
    "## Extracting bounding box information of coverage_id image from XML"
   ]
  },
  {
   "cell_type": "code",
   "execution_count": 20,
   "metadata": {
    "collapsed": false,
    "scrolled": true
   },
   "outputs": [
    {
     "name": "stdout",
     "output_type": "stream",
     "text": [
      "{'minLong': 15568380.755101334, 'minLat': -4511634.32728893, 'maxLong': 15620246.115434228, 'maxLat': -4501794.727500061}\n"
     ]
    }
   ],
   "source": [
    "def coordinates(coverage_id):\n",
    "\n",
    "    coverageID = coverage_id.upper() # convert coverage_id to uppercase for XML file info on coverage\n",
    "    xml_url = urllib.request.urlopen(\"http://access.planetserver.eu:8080/ps2/dataset?request=getCoverage&coverageID=\"+coverageID)\n",
    "    xml_url_string = xml_url.read()\n",
    "\n",
    "    #print xml_url_string\n",
    "    \n",
    "    tree = ET.fromstring(xml_url_string) # converting xml string into elements for parsing\n",
    "\n",
    "    # storing the coverage_id's bounding coordinates i.e. maximum and minimum Latitudes and Longitudes \n",
    "    coords_degrees = {} \n",
    "    coords_metres = {} \n",
    "    centroid = {}\n",
    "    \n",
    "    r = 3396190.0\n",
    "    \n",
    "    for i in range(4):\n",
    "        coords_degrees[tree[1][0][2][i].tag] = float(tree[1][0][2][i].text)\n",
    "        if 'Lat' in tree[1][0][2][i].tag:\n",
    "            coords_metres[tree[1][0][2][i].tag] = float(tree[1][0][2][i].text)*r*np.pi/180\n",
    "        else:\n",
    "            coords_metres[tree[1][0][2][i].tag] = float(tree[1][0][2][i].text)*r*np.pi/180\n",
    "    #for j in range(1):\n",
    "    #    centroid[tree[1][0][3][j].tag] = float([tree[1][0][3][j].text])\n",
    "    centroid_long = float(tree[1][0][3][1].text)\n",
    "            \n",
    "\n",
    "    return coords_degrees, coords_metres, centroid_long\n",
    "        \n",
    "#coordinates(\"FRT00005A94_07_IF163L_TRR3\")[2]\n",
    "print(coordinates(\"FRT00005A94_07_IF163L_TRR3\")[1])"
   ]
  },
  {
   "cell_type": "code",
   "execution_count": 21,
   "metadata": {
    "collapsed": true
   },
   "outputs": [],
   "source": [
    "summary_products = { \"BD1300\" : [f1, [\"R1320\", \"R1080\", \"R1750\"]], \"BD1400\" : [f1, [\"R1395\", \"R1330\", \"R1467\"]], \n",
    "                    \"BD1435\" : [f1, [\"R1435\", \"R1370\", \"R1470\"]], \"BD1500_2\" : [f1, [\"R1525\", \"R1367\", \"R1808\"]], \n",
    "                    \"BD1750_2\" : [f1, [\"R1750\", \"R1690\", \"R1815\"]], \"BD2100_2\" : [f1, [\"R2132\", \"R1930\", \"R2250\"]], \n",
    "                    \"BD2165\" : [f1, [\"R2165\", \"R21!!!20\", \"R2230\"]], \"BD2190\" : [f1, [\"R2185\", \"R2120\", \"R2250\"]],\n",
    "                    \"BD2210_2\" : [f1, [\"R2210\", \"R2165\", \"R2250\"]], \"BD2230\" : [f1, [\"R2235\", \"R2210\", \"R2252\"]],\n",
    "                    \"BD2250\" : [f1, [\"R2245\", \"R2120\", \"R2340\"]], \"BD2265\" : [f1, [\"R2265\", \"R2210\", \"R2340\"]],\n",
    "                    \"BD2290\" : [f1, [\"R2290\", \"R2250\", \"R2350\"]], \"BD2355\" : [f1, [\"R2355\", \"R2300\", \"R2450\"]],\n",
    "                    \"BD2500_2\" : [f1, [\"R2480\", \"R2364\", \"R2570\"]], \"BD3100\" : [f1, [\"R3120\", \"R3000\", \"R3250\"]],\n",
    "                    \"BD3200\" : [f1, [\"R3320\", \"R3250\", \"R3390\"]], \"BD3400_2\" : [f1, [\"R3420\", \"R3250\", \"R3630\"]],\n",
    "                    \"BD2600\" : [f1, [\"R2600\", \"R2530\", \"R2630\"]], \n",
    "                    \"MIN2200\" : [f2, [\"R2165\", \"R2120\", \"R2350\", \"R2210\", \"R2120\", \"R2350\"]], \n",
    "                    \"MIN2250\" : [f2, [\"R2210\", \"R2165\", \"R2350\", \"R2265\", \"R2165\", \"R2350\"]], \n",
    "                    \"MIN2295_2480\" : [f2, [\"R2295\", \"R2165\", \"R2364\", \"R2480\", \"R2364\", \"R2570\"]], \n",
    "                    \"MIN2345_2537\" : [f2, [\"R2345\", \"R2250\", \"R2430\", \"R2537\", \"R2430\", \"R2602\"]], \n",
    "                    \"BD1900_2\" : [f3, [\"R1930\", \"R1850\", \"R2067\", \"R1985\", \"R1850\", \"R2067\"]], \n",
    "                    \"R1330\" : [f4,[\"R1330\"]], \"R1080\" : [f4,[\"R1080\"]],  \"R1506\" : [f4,[\"R1506\"]],\n",
    "                    \"R2529\" : [f4,[\"R2529\"]], \"R3920\" : [f4,[\"R3920\"]],\n",
    "                    \"IRR2\" : [f5,[\"R2530\", \"R2210\"]], \"IRR3\" : [f5,[\"R3500\", \"R3390\"]],\n",
    "                    \"BD3000\" : [f6,[\"R3000\", \"R2530\", \"R2530\", \"R2210\"]], \n",
    "                    \"SINDEX2\" : [f7, [\"R2120\", \"R2400\", \"R2290\"]], \"CINDEX2\" : [f7, [\"R3450\", \"R3875\", \"R3610\"]], \n",
    "                    \"ISLOPE1\" : [f9,[\"R1815\", \"R2530\"]], \n",
    "                    \"ICER2_2\" : [f10,[\"RB2600\",[\"R2456\", \"R2530\"]]],\n",
    "                    \"D2200\" : [f11,[[\"R2210\",\"R2230\"],[\"R2165\",\"R2165\"],[\"R1815\",\"R2430\"]]], \n",
    "                    \"D2300\" : [f11,[[\"R2290\",\"R2320\",\"R2330\"],[\"R2120\",\"R2170\",\"R2210\"],[\"R1815\",\"R2530\"]]],\n",
    "                    \"BD1900r2\" : [f11,[[\"R1908\",\"R1914\",\"R1921\",\"R1928\",\"R1934\",\"R1941\"],[\"R1862\",\"R1869\",\"R1875\",\"R2112\",\"R2120\",\"R2126\"],[\"R1850\",\"R2060\"]]],\n",
    "                    \"LCPINDEX2\" : [f12,[[\"RB1690\",0.20], [\"RB1750\",0.20], [\"RB1810\",0.30], [\"RB1870\",0.30], [\"R1560\",\"R2450\"]]],\n",
    "                    \"HCPINDEX2\" : [f12,[[\"RB2120\",0.10], [\"RB2140\",0.10], [\"RB2230\",0.15], [\"RB2250\",0.30], [\"RB2430\",0.20], [\"RB2460\",0.15], [\"R1690\",\"R2530\"]]],\n",
    "                    \"OLINDEX3\" : [f13,[[\"RB1210\",0.1], [\"RB1250\",0.1], [\"RB1263\",0.2], [\"RB1276\",0.2], [\"RB1330\",0.4], [\"R1750\",\"R1860\"]]],\n",
    "                    \"HCPINDEX3\" : [f12,[[\"RB2120\",0.10], [\"RB2140\",0.10], [\"R1690\",\"R2530\"]]]} \n",
    "                    \n",
    "summary_products[\"ICER1_2\"] = [f8, [summary_products, \"BD1435\", \"BD1500_2\"]]"
   ]
  },
  {
   "cell_type": "code",
   "execution_count": 22,
   "metadata": {
    "collapsed": true
   },
   "outputs": [],
   "source": [
    "from pyproj import Proj\n",
    "\n",
    "def get_data(url):\n",
    "   response = urllib.request.urlopen(url)\n",
    "   data = np.genfromtxt(response,delimiter = ' ', dtype = float)\n",
    "   return data\n",
    "\n",
    "def plot_spectra(N, E, coverage_id):\n",
    "    \n",
    "    query = \"http://access.planetserver.eu:8080/rasdaman/ows?query=for%20c%20in%20(\" + coverage_id + \")%20return%20encode(c[%20N(\" + str(N) + \":\" + str(N) + \"),%20E(\" + str(E) + \":\" + str(E) + \")%20],%20%22csv%22)\"\n",
    "    print(query) #MIKHAIL\n",
    "    data = get_data(query)\n",
    "    for x in range (0,len(data)):\n",
    "        if data[x] == 65535 or math.isnan(data[x]):\n",
    "            data[x] = 0\n",
    "    ymax = max(data[3:244])\n",
    "    ymin = min(data[3:244])\n",
    "    delta = 0.01\n",
    "    ## X-axis values:\n",
    "    x_axis = [1.00135, 1.0079, 1.0144500000000001, 1.0209999999999999, 1.02755, 1.0341, 1.0406500000000001, 1.0471999999999999, 1.05375, 1.0603, 1.0668500000000001, 1.07341, 1.07996, 1.0865100000000001, 1.09307, 1.09962, 1.1061700000000001, 1.11273, 1.1192800000000001, 1.12584, 1.13239, 1.1389499999999999, 1.14551, 1.1520600000000001, 1.15862, 1.1651800000000001, 1.1717299999999999, 1.1782900000000001, 1.18485, 1.1914100000000001, 1.19797, 1.2045300000000001, 1.21109, 1.2176499999999999, 1.22421, 1.2307699999999999, 1.23733, 1.2438899999999999, 1.2504500000000001, 1.25701, 1.2635700000000001, 1.27014, 1.2766999999999999, 1.2832600000000001, 1.28983, 1.2963899999999999, 1.3029500000000001, 1.30952, 1.3160799999999999, 1.3226500000000001, 1.32921, 1.33578, 1.3423400000000001, 1.3489100000000001, 1.35548, 1.36205, 1.3686100000000001, 1.3751800000000001, 1.38175, 1.38832, 1.39489, 1.4014500000000001, 1.40802, 1.41459, 1.42116, 1.4277299999999999, 1.43431, 1.4408799999999999, 1.4474499999999999, 1.4540200000000001, 1.4605900000000001, 1.46716, 1.47374, 1.48031, 1.48688, 1.49346, 1.50003, 1.50661, 1.51318, 1.51976, 1.52633, 1.53291, 1.53948, 1.54606, 1.55264, 1.55921, 1.56579, 1.57237, 1.5789500000000001, 1.58552, 1.5921000000000001, 1.5986800000000001, 1.6052599999999999, 1.6118399999999999, 1.61842, 1.625, 1.63158, 1.6381600000000001, 1.6447400000000001, 1.65133, 1.65791, 1.66449, 1.6710700000000001, 1.6776599999999999, 1.68424, 1.69082, 1.6974100000000001, 1.7039899999999999, 1.71058, 1.71716, 1.7237499999999999, 1.7303299999999999, 1.73692, 1.7435099999999999, 1.7500899999999999, 1.75668, 1.7632699999999999, 1.7698499999999999, 1.77644, 1.7830299999999999, 1.78962, 1.7962100000000001, 1.8028, 1.8093900000000001, 1.8159799999999999, 1.82257, 1.8291599999999999, 1.83575, 1.8423400000000001, 1.84893, 1.8555200000000001, 1.86212, 1.8687100000000001, 1.8753, 1.8818999999999999, 1.88849, 1.8950800000000001, 1.90168, 1.9082699999999999, 1.9148700000000001, 1.9214599999999999, 1.9280600000000001, 1.93465, 1.9412499999999999, 1.9478500000000001, 1.95444, 1.9610399999999999, 1.9676400000000001, 1.97424, 1.9808399999999999, 1.98743, 1.99403, 2.0006300000000001, 2.0072299999999998, 2.01383, 2.0204300000000002, 2.0270299999999999, 2.03363, 2.0402399999999998, 2.04684, 2.0534400000000002, 2.0600399999999999, 2.06664, 2.0732499999999998, 2.07985, 2.0864500000000001, 2.0930599999999999, 2.0996600000000001, 2.1062699999999999, 2.11287, 2.1194799999999998, 2.12608, 2.1326900000000002, 2.1393, 2.1459000000000001, 2.1525099999999999, 2.1591200000000002, 2.1657199999999999, 2.1723300000000001, 2.1789399999999999, 2.1855500000000001, 2.1921599999999999, 2.1987700000000001, 2.2053799999999999, 2.2119900000000001, 2.2185999999999999, 2.2252100000000001, 2.2318199999999999, 2.2384300000000001, 2.2450399999999999, 2.2516500000000002, 2.25827, 2.2648799999999998, 2.27149, 2.2780999999999998, 2.2847200000000001, 2.2913299999999999, 2.2979500000000002, 2.3045599999999999, 2.3111799999999998, 2.31779, 2.3244099999999999, 2.3310200000000001, 2.3376399999999999, 2.3442599999999998, 2.35087, 2.3574899999999999, 2.3641100000000002, 2.3707199999999999, 2.3773399999999998, 2.3839600000000001, 2.3905799999999999, 2.3972000000000002, 2.4038200000000001, 2.4104399999999999, 2.4170600000000002, 2.4236800000000001, 2.4302999999999999, 2.4369200000000002, 2.44354, 2.45017, 2.4567899999999998, 2.4634100000000001, 2.4700299999999999, 2.4766599999999999, 2.4832800000000002, 2.4899, 2.4965299999999999, 2.50312, 2.5097200000000002, 2.5163199999999999, 2.5229200000000001, 2.5295100000000001, 2.5361099999999999, 2.54271, 2.5493100000000002, 2.5559099999999999, 2.5625100000000001, 2.5691099999999998, 2.5757099999999999, 2.5823100000000001, 2.5889099999999998, 2.59551, 2.6021200000000002, 2.6087199999999999, 2.6153200000000001, 2.6219199999999998, 2.62853, 2.6351300000000002, 2.64174, 2.6483400000000001, 2.6549499999999999, 2.6615500000000001, 2.6681599999999999, 2.67476, 2.6813699999999998, 2.68798, 2.6945800000000002, 2.70119, 2.7606799999999998, 2.76729, 2.7738999999999998, 2.7805200000000001, 2.7871299999999999, 2.7937400000000001, 2.8003499999999999, 2.8069700000000002, 2.81358, 2.8201999999999998, 2.82681, 2.8334299999999999, 2.8400400000000001, 2.84666, 2.8532799999999998, 2.85989, 2.8665099999999999, 2.8731300000000002, 2.87975, 2.8863599999999998, 2.8929800000000001, 2.8996, 2.9062199999999998, 2.9128400000000001, 2.9194599999999999, 2.9260799999999998, 2.9327000000000001, 2.9393199999999999, 2.9459499999999998, 2.9525700000000001, 2.95919, 2.9658099999999998, 2.9724400000000002, 2.97906, 2.9856799999999999, 2.9923099999999998, 2.9989300000000001, 3.00556, 3.0121799999999999, 3.0188100000000002, 3.0254400000000001, 3.03206, 3.0386899999999999, 3.0453199999999998, 3.0519500000000002, 3.05857, 3.0651999999999999, 3.0718299999999998, 3.0784600000000002, 3.0850900000000001, 3.09172, 3.0983499999999999, 3.1049799999999999, 3.1116100000000002, 3.1182500000000002, 3.1248800000000001, 3.13151, 3.1381399999999999, 3.1447799999999999, 3.1514099999999998, 3.1580400000000002, 3.1646800000000002, 3.1713100000000001, 3.1779500000000001, 3.18458, 3.1912199999999999, 3.1978499999999999, 3.2044899999999998, 3.2111299999999998, 3.2177600000000002, 3.2244000000000002, 3.2310400000000001, 3.2376800000000001, 3.2443200000000001, 3.2509600000000001, 3.2576000000000001, 3.26424, 3.27088, 3.27752, 3.28416, 3.2907999999999999, 3.2974399999999999, 3.3040799999999999, 3.31073, 3.3173699999999999, 3.3240099999999999, 3.33066, 3.3372999999999999, 3.34395, 3.35059, 3.35724, 3.36388, 3.37053, 3.37717, 3.3838200000000001, 3.3904700000000001, 3.3971200000000001, 3.4037600000000001, 3.4104100000000002, 3.4170600000000002, 3.4237099999999998, 3.4303599999999999, 3.4370099999999999, 3.4436599999999999, 3.45031, 3.45696, 3.4636100000000001, 3.4702600000000001, 3.4769199999999998, 3.4835699999999998, 3.4902199999999999, 3.4968699999999999, 3.50353, 3.5101800000000001, 3.5168400000000002, 3.5234899999999998, 3.5301499999999999, 3.5367999999999999, 3.5434600000000001, 3.5501100000000001, 3.5567700000000002, 3.5634299999999999, 3.5700799999999999, 3.57674, 3.5834000000000001, 3.5900599999999998, 3.5967199999999999, 3.60338, 3.6100400000000001, 3.6166999999999998, 3.6233599999999999, 3.63002, 3.6366800000000001, 3.6433399999999998, 3.6499999999999999, 3.6566700000000001, 3.6633300000000002, 3.6699899999999999, 3.67665, 3.6833200000000001, 3.6899799999999998, 3.69665, 3.7033100000000001, 3.7099799999999998, 3.7166399999999999, 3.7233100000000001, 3.7299799999999999, 3.73664, 3.7433100000000001, 3.7499799999999999, 3.75665, 3.7633100000000002, 3.7699799999999999, 3.7766500000000001, 3.7833199999999998, 3.78999, 3.7966600000000001, 3.8033299999999999, 3.8100000000000001, 3.8166699999999998, 3.82335, 3.8300200000000002, 3.8366899999999999, 3.8433600000000001, 3.8500399999999999, 3.8567100000000001, 3.8633899999999999, 3.8700600000000001, 3.8767299999999998, 3.88341, 3.8900800000000002, 3.89676, 3.9034399999999998, 3.91011, 3.9167900000000002, 3.92347, 3.9301499999999998, 3.93682, 4.0]\n",
    "    #    \n",
    "    #\n",
    "    fig=plt.figure()\n",
    "    ax=fig.add_subplot(111)\n",
    "    ax.plot(x_axis,data)\n",
    "    ax.set_xlim(xmin=1.0, xmax=2.6)\n",
    "    ax.set_ylim(ymin=ymin-delta, ymax=ymax+delta)\n",
    "    \n",
    "def polar_coordinates(lat, lon, coverage_id, sign=1, inverse=False):\n",
    "    lat0 = sign*90\n",
    "    lat_ts=sign*89.9999999\n",
    "    lon0 = coordinates(coverage_id)[2]\n",
    "    p=Proj(\"+proj=stere +lat_0=\" +str(lat0)+ \"+lat_ts=\" +str(lat_ts)+ \" +lon_0=\"+str(lon0)+\n",
    "                \"+k=1 +x_0=0 +y_0=0 +a=3396190 +b=3376200 +units=m +no_defs \", inverse=inverse)\n",
    "    E,N=p(lon,lat)\n",
    "    return N,E\n",
    "\n",
    "def coordinates_trans(lat, lon, coverage_id):\n",
    "    if lat > 65:    N,E=polar_coordinates(lat,lon,coverage_id)\n",
    "    elif lat < -65: N,E=polar_coordinates(lat,lon,coverage_id,sign=-1)\n",
    "    else:           E,N=Proj(\"+proj=eqc +a=3396190 +units=m +no_defs \")(lon,lat)\n",
    "#        r = 3396190\n",
    "#        rho = (math.pi / 180)\n",
    "#        E = lon * r * rho\n",
    "#        N = lat  * r * rho\n",
    "#        E,N=Proj(\"+proj=eqc +a=3396190 +units=m +no_defs \")(lon,lat)\n",
    "    return N, E"
   ]
  },
  {
   "cell_type": "code",
   "execution_count": 23,
   "metadata": {
    "collapsed": true
   },
   "outputs": [],
   "source": [
    "def plot_this_spectra(point_clicked,coverage_id):\n",
    "    print(point_clicked)\n",
    "    coordinate_lat = point_clicked[\"y\"]\n",
    "    coordinate_lon = point_clicked[\"x\"]\n",
    "    #coordinates_xy = coordinates_trans(coordinate_lat, coordinate_lon, coverage_id)\n",
    "    coordinates_xy = coordinates_trans(coordinate_lat, coordinate_lon, coverage_id)\n",
    "    coordinate_x = coordinates_xy[1]\n",
    "    coordinate_y = coordinates_xy[0]\n",
    "    plot_spectra(coordinate_y, coordinate_x, coverage_id)\n",
    "\n",
    "def URL_creator(coverage_id, red, green, blue, summary_products, dontStretch=True):\n",
    "    # Takes the coverage_id, the bands in red, green and blue and computes their corresponding\n",
    "    # products by looking up from the passed dictionary \"products\"\n",
    "    #\n",
    "    # storing FS for each channel with corresponding family function in FSr, FSg, FSb resp.\n",
    "    FSr = summary_products[red][0](summary_products[red][1])[0]\n",
    "    FSg = summary_products[green][0](summary_products[green][1])[0]\n",
    "    FSb = summary_products[blue][0](summary_products[blue][1])[0]\n",
    "    URL = \"http://access.planetserver.eu:8090/python?wcpsQuery=http://access.planetserver.eu:8080/rasdaman/ows?service=WCS&version=2.0.1&request=ProcessCoverages&query=for data in ( \"+coverage_id+\" ) return encode({ red: \"+FSr+\";green: \"+FSg+\";blue: \"+FSb+\";alpha: (float)((data.band_100 > 0) * 255)}, \\\"png\\\", \\\"nodata=65535\\\")\"\n",
    "    URL = \"http://access.planetserver.eu:8080/rasdaman/ows?service=WCS&version=2.0.1&request=ProcessCoverages&query=for data in ( \"+coverage_id+\" ) return encode({ red: \"+FSr+\";green: \"+FSg+\";blue: \"+FSb+\";alpha: (float)((data.band_100 > 0) * 255)}, \\\"png\\\", \\\"nodata=65535\\\")\"\n",
    "    index = URL.find(\"for\")\n",
    "    URL_to_encode = URL[index:]\n",
    "    params = urllib.parse.urlencode({'service':'WCPS','version':'2.0.1','request':'ProcessCoverages',\n",
    "                                     'query':URL_to_encode})\n",
    "    params=params.encode('utf-8')\n",
    "    f = urllib.request.urlopen('http://access.planetserver.eu:8080/rasdaman/ows', params) \n",
    "    fig = plt.figure(figsize=(8,8))\n",
    "    coords = coordinates(coverage_id)[0] # taking bounding box coordinates in metres\n",
    "    image = plt.imread(f) # read the image file in a numpy array\n",
    "    plt.tight_layout()\n",
    "    #plt.imshow(image)\n",
    "    if dontStretch:\n",
    "        plt.imshow(image, extent=[coords['minLong'],coords['maxLong'],coords['minLat'],coords['maxLat']])\n",
    "    else:\n",
    "        plt.imshow(image, extent=[coords['minLong'],coords['maxLong'],coords['minLat'],coords['maxLat']], \n",
    "                   interpolation='nearest', aspect='auto')\n",
    "    collector = {'x':0.000000,'y':0.000000} # defining a dictionary to collect the coordinate of image clicked\n",
    "    def onclick(event):\n",
    "        collector['x'] = event.xdata\n",
    "        x_clicked = event.xdata\n",
    "        collector['y'] = event.ydata\n",
    "        y_clicked = event.ydata\n",
    "        coordinate_xy = [x_clicked, y_clicked]\n",
    "        print(coordinate_xy)\n",
    "        plot_this_spectra(collector, coverage_id)\n",
    "        #plot_spectra(coordinate_xy[1], coordinate_xy[0], coverage_id)\n",
    "    cid = fig.canvas.mpl_connect('button_press_event',onclick)\n",
    "    return URL, collector\n"
   ]
  },
  {
   "cell_type": "code",
   "execution_count": 24,
   "metadata": {
    "collapsed": false
   },
   "outputs": [
    {
     "name": "stdout",
     "output_type": "stream",
     "text": [
      "Number of products in the dictionary =  44\n",
      "\n",
      "f8 example:  (1 - ((1 - (1 - (data.band_67 / ((0.33333333333333404) * data.band_57 + (0.666666666666666) * data.band_72)))) / (1 - (1 - (data.band_81 / ((0.6421797722219704) * data.band_57 + (0.3578202277780296) * data.band_124))))))\n"
     ]
    }
   ],
   "source": [
    "print(\"Number of products in the dictionary = \", len(summary_products))\n",
    "print(\"\\nf8 example: \", f8([summary_products, \"BD1435\", \"BD1500_2\"])[1])"
   ]
  },
  {
   "cell_type": "code",
   "execution_count": 25,
   "metadata": {
    "collapsed": false
   },
   "outputs": [
    {
     "name": "stdout",
     "output_type": "stream",
     "text": [
      "summary products list:\n"
     ]
    },
    {
     "data": {
      "text/plain": [
       "{'BD1300': [<function __main__.f1>, ['R1320', 'R1080', 'R1750']],\n",
       " 'BD1400': [<function __main__.f1>, ['R1395', 'R1330', 'R1467']],\n",
       " 'BD1435': [<function __main__.f1>, ['R1435', 'R1370', 'R1470']],\n",
       " 'BD1500_2': [<function __main__.f1>, ['R1525', 'R1367', 'R1808']],\n",
       " 'BD1750_2': [<function __main__.f1>, ['R1750', 'R1690', 'R1815']],\n",
       " 'BD1900_2': [<function __main__.f3>,\n",
       "  ['R1930', 'R1850', 'R2067', 'R1985', 'R1850', 'R2067']],\n",
       " 'BD1900r2': [<function __main__.f11>,\n",
       "  [['R1908', 'R1914', 'R1921', 'R1928', 'R1934', 'R1941'],\n",
       "   ['R1862', 'R1869', 'R1875', 'R2112', 'R2120', 'R2126'],\n",
       "   ['R1850', 'R2060']]],\n",
       " 'BD2100_2': [<function __main__.f1>, ['R2132', 'R1930', 'R2250']],\n",
       " 'BD2165': [<function __main__.f1>, ['R2165', 'R21!!!20', 'R2230']],\n",
       " 'BD2190': [<function __main__.f1>, ['R2185', 'R2120', 'R2250']],\n",
       " 'BD2210_2': [<function __main__.f1>, ['R2210', 'R2165', 'R2250']],\n",
       " 'BD2230': [<function __main__.f1>, ['R2235', 'R2210', 'R2252']],\n",
       " 'BD2250': [<function __main__.f1>, ['R2245', 'R2120', 'R2340']],\n",
       " 'BD2265': [<function __main__.f1>, ['R2265', 'R2210', 'R2340']],\n",
       " 'BD2290': [<function __main__.f1>, ['R2290', 'R2250', 'R2350']],\n",
       " 'BD2355': [<function __main__.f1>, ['R2355', 'R2300', 'R2450']],\n",
       " 'BD2500_2': [<function __main__.f1>, ['R2480', 'R2364', 'R2570']],\n",
       " 'BD2600': [<function __main__.f1>, ['R2600', 'R2530', 'R2630']],\n",
       " 'BD3000': [<function __main__.f6>, ['R3000', 'R2530', 'R2530', 'R2210']],\n",
       " 'BD3100': [<function __main__.f1>, ['R3120', 'R3000', 'R3250']],\n",
       " 'BD3200': [<function __main__.f1>, ['R3320', 'R3250', 'R3390']],\n",
       " 'BD3400_2': [<function __main__.f1>, ['R3420', 'R3250', 'R3630']],\n",
       " 'CINDEX2': [<function __main__.f7>, ['R3450', 'R3875', 'R3610']],\n",
       " 'D2200': [<function __main__.f11>,\n",
       "  [['R2210', 'R2230'], ['R2165', 'R2165'], ['R1815', 'R2430']]],\n",
       " 'D2300': [<function __main__.f11>,\n",
       "  [['R2290', 'R2320', 'R2330'],\n",
       "   ['R2120', 'R2170', 'R2210'],\n",
       "   ['R1815', 'R2530']]],\n",
       " 'HCPINDEX2': [<function __main__.f12>,\n",
       "  [['RB2120', 0.1],\n",
       "   ['RB2140', 0.1],\n",
       "   ['RB2230', 0.15],\n",
       "   ['RB2250', 0.3],\n",
       "   ['RB2430', 0.2],\n",
       "   ['RB2460', 0.15],\n",
       "   ['R1690', 'R2530']]],\n",
       " 'HCPINDEX3': [<function __main__.f12>,\n",
       "  [['RB2120', 0.1], ['RB2140', 0.1], ['R1690', 'R2530']]],\n",
       " 'ICER1_2': [<function __main__.f8>, [{...}, 'BD1435', 'BD1500_2']],\n",
       " 'ICER2_2': [<function __main__.f10>, ['RB2600', ['R2456', 'R2530']]],\n",
       " 'IRR2': [<function __main__.f5>, ['R2530', 'R2210']],\n",
       " 'IRR3': [<function __main__.f5>, ['R3500', 'R3390']],\n",
       " 'ISLOPE1': [<function __main__.f9>, ['R1815', 'R2530']],\n",
       " 'LCPINDEX2': [<function __main__.f12>,\n",
       "  [['RB1690', 0.2],\n",
       "   ['RB1750', 0.2],\n",
       "   ['RB1810', 0.3],\n",
       "   ['RB1870', 0.3],\n",
       "   ['R1560', 'R2450']]],\n",
       " 'MIN2200': [<function __main__.f2>,\n",
       "  ['R2165', 'R2120', 'R2350', 'R2210', 'R2120', 'R2350']],\n",
       " 'MIN2250': [<function __main__.f2>,\n",
       "  ['R2210', 'R2165', 'R2350', 'R2265', 'R2165', 'R2350']],\n",
       " 'MIN2295_2480': [<function __main__.f2>,\n",
       "  ['R2295', 'R2165', 'R2364', 'R2480', 'R2364', 'R2570']],\n",
       " 'MIN2345_2537': [<function __main__.f2>,\n",
       "  ['R2345', 'R2250', 'R2430', 'R2537', 'R2430', 'R2602']],\n",
       " 'OLINDEX3': [<function __main__.f13>,\n",
       "  [['RB1210', 0.1],\n",
       "   ['RB1250', 0.1],\n",
       "   ['RB1263', 0.2],\n",
       "   ['RB1276', 0.2],\n",
       "   ['RB1330', 0.4],\n",
       "   ['R1750', 'R1860']]],\n",
       " 'R1080': [<function __main__.f4>, ['R1080']],\n",
       " 'R1330': [<function __main__.f4>, ['R1330']],\n",
       " 'R1506': [<function __main__.f4>, ['R1506']],\n",
       " 'R2529': [<function __main__.f4>, ['R2529']],\n",
       " 'R3920': [<function __main__.f4>, ['R3920']],\n",
       " 'SINDEX2': [<function __main__.f7>, ['R2120', 'R2400', 'R2290']]}"
      ]
     },
     "execution_count": 25,
     "metadata": {},
     "output_type": "execute_result"
    }
   ],
   "source": [
    "print(\"summary products list:\")\n",
    "summary_products"
   ]
  },
  {
   "cell_type": "markdown",
   "metadata": {},
   "source": [
    "## User input and analysed image"
   ]
  },
  {
   "cell_type": "markdown",
   "metadata": {},
   "source": [
    "Note: 2 floating widgets would be better than in-line particularly for smalls creens, so one could click and see the \n",
    "    spectra withouth scrolling up and down too much..."
   ]
  },
  {
   "cell_type": "code",
   "execution_count": 26,
   "metadata": {
    "collapsed": false
   },
   "outputs": [
    {
     "name": "stdout",
     "output_type": "stream",
     "text": [
      "[350.34879032258067, -84.99129220779221]\n",
      "{'x': 350.34879032258067, 'y': -84.99129220779221}\n",
      "http://access.planetserver.eu:8080/rasdaman/ows?query=for%20c%20in%20(frt000070d7_07_if163l_trr3)%20return%20encode(c[%20N(298824.1219672829:298824.1219672829),%20E(289.708042006915:289.708042006915)%20],%20%22csv%22)\n",
      "[351.0349967741936, -84.91578571428572]\n",
      "{'x': 351.0349967741936, 'y': -84.91578571428572}\n",
      "http://access.planetserver.eu:8080/rasdaman/ows?query=for%20c%20in%20(frt000070d7_07_if163l_trr3)%20return%20encode(c[%20N(303309.08813443105:303309.08813443105),%20E(3926.8755574362563:3926.8755574362563)%20],%20%22csv%22)\n",
      "[349.87025161290325, -84.88802597402596]\n",
      "{'x': 349.87025161290325, 'y': -84.88802597402596}\n",
      "http://access.planetserver.eu:8080/rasdaman/ows?query=for%20c%20in%20(frt000070d7_07_if163l_trr3)%20return%20encode(c[%20N(304984.43556522846:304984.43556522846),%20E(-2251.6137827466055:-2251.6137827466055)%20],%20%22csv%22)\n",
      "[350.6918935483871, -85.08567532467532]\n",
      "{'x': 350.6918935483871, 'y': -85.08567532467532}\n",
      "http://access.planetserver.eu:8080/rasdaman/ows?query=for%20c%20in%20(frt000070d7_07_if163l_trr3)%20return%20encode(c[%20N(293179.6988796432:293179.6988796432),%20E(2039.9110493770381:2039.9110493770381)%20],%20%22csv%22)\n",
      "[349.3239951612903, -84.99314285714286]\n",
      "{'x': 349.3239951612903, 'y': -84.99314285714286}\n",
      "http://access.planetserver.eu:8080/rasdaman/ows?query=for%20c%20in%20(frt000070d7_07_if163l_trr3)%20return%20encode(c[%20N(298670.9798161335:298670.9798161335),%20E(-5052.966526327786:-5052.966526327786)%20],%20%22csv%22)\n"
     ]
    }
   ],
   "source": [
    "#import warnings\n",
    "#warnings.filterwarnings('ignore')\n",
    "\n",
    "r = \"BD1900_2\"\n",
    "g = \"MIN2200\"\n",
    "b = \"D2300\"\n",
    "\n",
    "coverage_id = \"FRT000070D7_07_IF163L_TRR3\".lower()\n",
    "#coverage_id = \"frt00008c6d_07_if187l_trr3\"\n",
    "#coverage_id = \"frt000073ae_07_if163l_trr3\"\n",
    "\n",
    "#url, point_clicked = URL_creator(coverage_id, r, g, b, summary_products)\n",
    "url, point_clicked = URL_creator(coverage_id, r, g, b, summary_products, dontStretch=False)"
   ]
  },
  {
   "cell_type": "code",
   "execution_count": null,
   "metadata": {
    "collapsed": true
   },
   "outputs": [],
   "source": []
  }
 ],
 "metadata": {
  "anaconda-cloud": {},
  "kernelspec": {
   "display_name": "Python [default]",
   "language": "python",
   "name": "python3"
  },
  "language_info": {
   "codemirror_mode": {
    "name": "ipython",
    "version": 3
   },
   "file_extension": ".py",
   "mimetype": "text/x-python",
   "name": "python",
   "nbconvert_exporter": "python",
   "pygments_lexer": "ipython3",
   "version": "3.5.4"
  },
  "toc": {
   "base_numbering": 1,
   "nav_menu": {
    "height": "512px",
    "width": "252px"
   },
   "number_sections": true,
   "sideBar": true,
   "skip_h1_title": false,
   "title_cell": "Table of Contents",
   "title_sidebar": "Contents",
   "toc_cell": false,
   "toc_position": {},
   "toc_section_display": "block",
   "toc_window_display": false
  },
  "varInspector": {
   "cols": {
    "lenName": 16,
    "lenType": 16,
    "lenVar": 40
   },
   "kernels_config": {
    "python": {
     "delete_cmd_postfix": "",
     "delete_cmd_prefix": "del ",
     "library": "var_list.py",
     "varRefreshCmd": "print(var_dic_list())"
    },
    "r": {
     "delete_cmd_postfix": ") ",
     "delete_cmd_prefix": "rm(",
     "library": "var_list.r",
     "varRefreshCmd": "cat(var_dic_list()) "
    }
   },
   "types_to_exclude": [
    "module",
    "function",
    "builtin_function_or_method",
    "instance",
    "_Feature"
   ],
   "window_display": false
  }
 },
 "nbformat": 4,
 "nbformat_minor": 1
}
